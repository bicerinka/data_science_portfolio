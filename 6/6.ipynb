{
 "cells": [
  {
   "cell_type": "markdown",
   "metadata": {},
   "source": [
    "## Отток клиентов"
   ]
  },
  {
   "cell_type": "markdown",
   "metadata": {},
   "source": [
    "<a href='#section1'>1. Подготовка данных</a>\n",
    "\n",
    "<a href='#section2'>2. Исследование задачи</a>\n",
    "\n",
    "<a href='#section3'>3. Борьба с дисбалансомх</a>\n",
    "\n",
    "<a href='#section4'>4. Тестирование модели</a>\n",
    "\n",
    "<a href='#section5'>5. Вывод</a>"
   ]
  },
  {
   "cell_type": "markdown",
   "metadata": {},
   "source": [
    "<a id='section1'></a>\n",
    "### 1. Подготовка данных"
   ]
  },
  {
   "cell_type": "code",
   "execution_count": 1,
   "metadata": {},
   "outputs": [],
   "source": [
    "import pandas as pd\n",
    "import numpy as np\n",
    "import warnings\n",
    "import matplotlib.pyplot as plt\n",
    "from sklearn.model_selection import train_test_split, GridSearchCV\n",
    "from sklearn.preprocessing import StandardScaler\n",
    "from sklearn.linear_model import LogisticRegression\n",
    "from sklearn.ensemble import RandomForestClassifier\n",
    "from sklearn.metrics import f1_score, precision_score, recall_score, roc_auc_score, roc_curve\n",
    "\n",
    "warnings.filterwarnings('ignore')"
   ]
  },
  {
   "cell_type": "code",
   "execution_count": 2,
   "metadata": {},
   "outputs": [
    {
     "name": "stdout",
     "output_type": "stream",
     "text": [
      "<class 'pandas.core.frame.DataFrame'>\n",
      "RangeIndex: 10000 entries, 0 to 9999\n",
      "Data columns (total 14 columns):\n",
      "row_number          10000 non-null int64\n",
      "customer_id         10000 non-null int64\n",
      "surname             10000 non-null object\n",
      "credit_score        10000 non-null int64\n",
      "geography           10000 non-null object\n",
      "gender              10000 non-null object\n",
      "age                 10000 non-null int64\n",
      "tenure              9091 non-null float64\n",
      "balance             10000 non-null float64\n",
      "num_of_products     10000 non-null int64\n",
      "has_cr_card         10000 non-null int64\n",
      "is_active_member    10000 non-null int64\n",
      "estimated_salary    10000 non-null float64\n",
      "exited              10000 non-null int64\n",
      "dtypes: float64(3), int64(8), object(3)\n",
      "memory usage: 1.1+ MB\n"
     ]
    },
    {
     "data": {
      "text/html": [
       "<div>\n",
       "<style scoped>\n",
       "    .dataframe tbody tr th:only-of-type {\n",
       "        vertical-align: middle;\n",
       "    }\n",
       "\n",
       "    .dataframe tbody tr th {\n",
       "        vertical-align: top;\n",
       "    }\n",
       "\n",
       "    .dataframe thead th {\n",
       "        text-align: right;\n",
       "    }\n",
       "</style>\n",
       "<table border=\"1\" class=\"dataframe\">\n",
       "  <thead>\n",
       "    <tr style=\"text-align: right;\">\n",
       "      <th></th>\n",
       "      <th>row_number</th>\n",
       "      <th>customer_id</th>\n",
       "      <th>surname</th>\n",
       "      <th>credit_score</th>\n",
       "      <th>geography</th>\n",
       "      <th>gender</th>\n",
       "      <th>age</th>\n",
       "      <th>tenure</th>\n",
       "      <th>balance</th>\n",
       "      <th>num_of_products</th>\n",
       "      <th>has_cr_card</th>\n",
       "      <th>is_active_member</th>\n",
       "      <th>estimated_salary</th>\n",
       "      <th>exited</th>\n",
       "    </tr>\n",
       "  </thead>\n",
       "  <tbody>\n",
       "    <tr>\n",
       "      <td>0</td>\n",
       "      <td>1</td>\n",
       "      <td>15634602</td>\n",
       "      <td>Hargrave</td>\n",
       "      <td>619</td>\n",
       "      <td>France</td>\n",
       "      <td>Female</td>\n",
       "      <td>42</td>\n",
       "      <td>2.0</td>\n",
       "      <td>0.00</td>\n",
       "      <td>1</td>\n",
       "      <td>1</td>\n",
       "      <td>1</td>\n",
       "      <td>101348.88</td>\n",
       "      <td>1</td>\n",
       "    </tr>\n",
       "    <tr>\n",
       "      <td>1</td>\n",
       "      <td>2</td>\n",
       "      <td>15647311</td>\n",
       "      <td>Hill</td>\n",
       "      <td>608</td>\n",
       "      <td>Spain</td>\n",
       "      <td>Female</td>\n",
       "      <td>41</td>\n",
       "      <td>1.0</td>\n",
       "      <td>83807.86</td>\n",
       "      <td>1</td>\n",
       "      <td>0</td>\n",
       "      <td>1</td>\n",
       "      <td>112542.58</td>\n",
       "      <td>0</td>\n",
       "    </tr>\n",
       "    <tr>\n",
       "      <td>2</td>\n",
       "      <td>3</td>\n",
       "      <td>15619304</td>\n",
       "      <td>Onio</td>\n",
       "      <td>502</td>\n",
       "      <td>France</td>\n",
       "      <td>Female</td>\n",
       "      <td>42</td>\n",
       "      <td>8.0</td>\n",
       "      <td>159660.80</td>\n",
       "      <td>3</td>\n",
       "      <td>1</td>\n",
       "      <td>0</td>\n",
       "      <td>113931.57</td>\n",
       "      <td>1</td>\n",
       "    </tr>\n",
       "    <tr>\n",
       "      <td>3</td>\n",
       "      <td>4</td>\n",
       "      <td>15701354</td>\n",
       "      <td>Boni</td>\n",
       "      <td>699</td>\n",
       "      <td>France</td>\n",
       "      <td>Female</td>\n",
       "      <td>39</td>\n",
       "      <td>1.0</td>\n",
       "      <td>0.00</td>\n",
       "      <td>2</td>\n",
       "      <td>0</td>\n",
       "      <td>0</td>\n",
       "      <td>93826.63</td>\n",
       "      <td>0</td>\n",
       "    </tr>\n",
       "    <tr>\n",
       "      <td>4</td>\n",
       "      <td>5</td>\n",
       "      <td>15737888</td>\n",
       "      <td>Mitchell</td>\n",
       "      <td>850</td>\n",
       "      <td>Spain</td>\n",
       "      <td>Female</td>\n",
       "      <td>43</td>\n",
       "      <td>2.0</td>\n",
       "      <td>125510.82</td>\n",
       "      <td>1</td>\n",
       "      <td>1</td>\n",
       "      <td>1</td>\n",
       "      <td>79084.10</td>\n",
       "      <td>0</td>\n",
       "    </tr>\n",
       "  </tbody>\n",
       "</table>\n",
       "</div>"
      ],
      "text/plain": [
       "   row_number  customer_id   surname  credit_score geography  gender  age  \\\n",
       "0           1     15634602  Hargrave           619    France  Female   42   \n",
       "1           2     15647311      Hill           608     Spain  Female   41   \n",
       "2           3     15619304      Onio           502    France  Female   42   \n",
       "3           4     15701354      Boni           699    France  Female   39   \n",
       "4           5     15737888  Mitchell           850     Spain  Female   43   \n",
       "\n",
       "   tenure    balance  num_of_products  has_cr_card  is_active_member  \\\n",
       "0     2.0       0.00                1            1                 1   \n",
       "1     1.0   83807.86                1            0                 1   \n",
       "2     8.0  159660.80                3            1                 0   \n",
       "3     1.0       0.00                2            0                 0   \n",
       "4     2.0  125510.82                1            1                 1   \n",
       "\n",
       "   estimated_salary  exited  \n",
       "0         101348.88       1  \n",
       "1         112542.58       0  \n",
       "2         113931.57       1  \n",
       "3          93826.63       0  \n",
       "4          79084.10       0  "
      ]
     },
     "execution_count": 2,
     "metadata": {},
     "output_type": "execute_result"
    }
   ],
   "source": [
    "data = pd.read_csv('/datasets/Churn.csv')\n",
    "\n",
    "data = data.rename(columns = {'RowNumber': 'row_number',\n",
    "              'CustomerId': 'customer_id',\n",
    "              'Surname': 'surname',\n",
    "              'CreditScore': 'credit_score',\n",
    "              'Geography': 'geography',\n",
    "              'Gender': 'gender',\n",
    "              'Age': 'age',\n",
    "              'Tenure': 'tenure',\n",
    "              'Balance': 'balance',\n",
    "              'NumOfProducts': 'num_of_products',\n",
    "              'HasCrCard': 'has_cr_card',\n",
    "              'IsActiveMember': 'is_active_member',\n",
    "              'EstimatedSalary': 'estimated_salary',\n",
    "              'Exited': 'exited'})\n",
    "data.info()\n",
    "data.head()"
   ]
  },
  {
   "cell_type": "markdown",
   "metadata": {},
   "source": [
    "Файл с данными содержит 10 тысяч строк и 14 столбцов. В столбце с количеством недвижимости есть пропуски."
   ]
  },
  {
   "cell_type": "code",
   "execution_count": 3,
   "metadata": {},
   "outputs": [],
   "source": [
    "def tenure(elem):\n",
    "    if np.isnan(elem['tenure']):\n",
    "        start = elem['age'] - 2\n",
    "        end = elem['age'] + 2\n",
    "        return round(data[data['age'].between(start, end)]['tenure'].mean())\n",
    "        \n",
    "    return elem['tenure']\n",
    "\n",
    "\n",
    "data['tenure'] = data.apply(tenure, axis = 1)\n",
    "data = data.drop(['row_number', 'customer_id', 'surname'], axis=1)"
   ]
  },
  {
   "cell_type": "markdown",
   "metadata": {},
   "source": [
    "Пропуски в столбце tenure не заполняем, т.к. их достаточно много - почти 10%, количество распределено почти равномерно для значений от 1 до 9, поэтому средним или медианой не стала заполнять и по другим столбцам предположить сложно количество недвижимости у клиента.\n",
    "Убираем столбец tenure и признаки, которые не влияют на исследование - номера строк, идентификатор клиента, фамилию."
   ]
  },
  {
   "cell_type": "markdown",
   "metadata": {},
   "source": [
    "<div class=\"alert\" style=\"background:#F4E0F9\">Пропуски в столбце tenure могли появиться потому что люди скрывают количество недвижимости или она находится за границей и банки не могут это отследить. Заполнила их средним в диапазоне для людей этого возраста. Но значения получились везде одинаковые - 5</div>"
   ]
  },
  {
   "cell_type": "code",
   "execution_count": 4,
   "metadata": {},
   "outputs": [],
   "source": [
    "# Обработка категориальных признаков техникой One-Hot Encoding\n",
    "data_ohe = pd.get_dummies(data, drop_first = True)"
   ]
  },
  {
   "cell_type": "code",
   "execution_count": 5,
   "metadata": {},
   "outputs": [],
   "source": [
    "# Отделение целевого признака от остальных\n",
    "target = data_ohe['exited']\n",
    "features = data_ohe.drop('exited', axis=1)\n",
    "\n",
    "# Разделение данных на выборки\n",
    "features_temp, features_valid, target_temp, target_valid = train_test_split(\n",
    "    features, target, stratify=target, test_size=0.2, random_state=12345) \n",
    "features_train, features_test, target_train, target_test = train_test_split(\n",
    "    features_temp, target_temp, stratify=target_temp, test_size=0.25, random_state=12345) "
   ]
  },
  {
   "cell_type": "code",
   "execution_count": 6,
   "metadata": {},
   "outputs": [],
   "source": [
    "# Столбцы с числовыми данными\n",
    "numeric = ['credit_score', 'age', 'balance', 'num_of_products', 'has_cr_card', 'is_active_member']\n",
    "\n",
    "# Масштабирование данных\n",
    "scaler = StandardScaler()\n",
    "scaler.fit(features_train[numeric])\n",
    "features_train[numeric] = scaler.transform(features_train[numeric])\n",
    "features_valid[numeric] = scaler.transform(features_valid[numeric])\n",
    "features_test[numeric] = scaler.transform(features_test[numeric])"
   ]
  },
  {
   "cell_type": "code",
   "execution_count": 7,
   "metadata": {},
   "outputs": [
    {
     "name": "stdout",
     "output_type": "stream",
     "text": [
      "Размеры полученных наборов:\n",
      "тренировочный -  6000\n",
      "валидационный -  2000\n",
      "тестовый -  2000\n"
     ]
    },
    {
     "data": {
      "text/html": [
       "<div>\n",
       "<style scoped>\n",
       "    .dataframe tbody tr th:only-of-type {\n",
       "        vertical-align: middle;\n",
       "    }\n",
       "\n",
       "    .dataframe tbody tr th {\n",
       "        vertical-align: top;\n",
       "    }\n",
       "\n",
       "    .dataframe thead th {\n",
       "        text-align: right;\n",
       "    }\n",
       "</style>\n",
       "<table border=\"1\" class=\"dataframe\">\n",
       "  <thead>\n",
       "    <tr style=\"text-align: right;\">\n",
       "      <th></th>\n",
       "      <th>credit_score</th>\n",
       "      <th>age</th>\n",
       "      <th>tenure</th>\n",
       "      <th>balance</th>\n",
       "      <th>num_of_products</th>\n",
       "      <th>has_cr_card</th>\n",
       "      <th>is_active_member</th>\n",
       "      <th>estimated_salary</th>\n",
       "      <th>geography_Germany</th>\n",
       "      <th>geography_Spain</th>\n",
       "      <th>gender_Male</th>\n",
       "    </tr>\n",
       "  </thead>\n",
       "  <tbody>\n",
       "    <tr>\n",
       "      <td>5536</td>\n",
       "      <td>-0.143332</td>\n",
       "      <td>0.577533</td>\n",
       "      <td>5.0</td>\n",
       "      <td>-1.220573</td>\n",
       "      <td>0.797767</td>\n",
       "      <td>0.652576</td>\n",
       "      <td>0.967527</td>\n",
       "      <td>159463.80</td>\n",
       "      <td>0</td>\n",
       "      <td>1</td>\n",
       "      <td>1</td>\n",
       "    </tr>\n",
       "    <tr>\n",
       "      <td>8530</td>\n",
       "      <td>1.632702</td>\n",
       "      <td>-0.564119</td>\n",
       "      <td>2.0</td>\n",
       "      <td>0.435807</td>\n",
       "      <td>-0.916018</td>\n",
       "      <td>0.652576</td>\n",
       "      <td>-1.033563</td>\n",
       "      <td>113907.80</td>\n",
       "      <td>0</td>\n",
       "      <td>0</td>\n",
       "      <td>0</td>\n",
       "    </tr>\n",
       "    <tr>\n",
       "      <td>1762</td>\n",
       "      <td>1.116413</td>\n",
       "      <td>-0.468981</td>\n",
       "      <td>1.0</td>\n",
       "      <td>1.245822</td>\n",
       "      <td>-0.916018</td>\n",
       "      <td>0.652576</td>\n",
       "      <td>0.967527</td>\n",
       "      <td>60728.89</td>\n",
       "      <td>0</td>\n",
       "      <td>0</td>\n",
       "      <td>0</td>\n",
       "    </tr>\n",
       "    <tr>\n",
       "      <td>9090</td>\n",
       "      <td>1.643028</td>\n",
       "      <td>0.006707</td>\n",
       "      <td>5.0</td>\n",
       "      <td>-1.220573</td>\n",
       "      <td>-0.916018</td>\n",
       "      <td>0.652576</td>\n",
       "      <td>-1.033563</td>\n",
       "      <td>77705.75</td>\n",
       "      <td>0</td>\n",
       "      <td>0</td>\n",
       "      <td>0</td>\n",
       "    </tr>\n",
       "    <tr>\n",
       "      <td>8777</td>\n",
       "      <td>-0.484083</td>\n",
       "      <td>-1.420358</td>\n",
       "      <td>1.0</td>\n",
       "      <td>1.421989</td>\n",
       "      <td>0.797767</td>\n",
       "      <td>0.652576</td>\n",
       "      <td>-1.033563</td>\n",
       "      <td>21858.28</td>\n",
       "      <td>0</td>\n",
       "      <td>1</td>\n",
       "      <td>1</td>\n",
       "    </tr>\n",
       "  </tbody>\n",
       "</table>\n",
       "</div>"
      ],
      "text/plain": [
       "      credit_score       age  tenure   balance  num_of_products  has_cr_card  \\\n",
       "5536     -0.143332  0.577533     5.0 -1.220573         0.797767     0.652576   \n",
       "8530      1.632702 -0.564119     2.0  0.435807        -0.916018     0.652576   \n",
       "1762      1.116413 -0.468981     1.0  1.245822        -0.916018     0.652576   \n",
       "9090      1.643028  0.006707     5.0 -1.220573        -0.916018     0.652576   \n",
       "8777     -0.484083 -1.420358     1.0  1.421989         0.797767     0.652576   \n",
       "\n",
       "      is_active_member  estimated_salary  geography_Germany  geography_Spain  \\\n",
       "5536          0.967527         159463.80                  0                1   \n",
       "8530         -1.033563         113907.80                  0                0   \n",
       "1762          0.967527          60728.89                  0                0   \n",
       "9090         -1.033563          77705.75                  0                0   \n",
       "8777         -1.033563          21858.28                  0                1   \n",
       "\n",
       "      gender_Male  \n",
       "5536            1  \n",
       "8530            0  \n",
       "1762            0  \n",
       "9090            0  \n",
       "8777            1  "
      ]
     },
     "execution_count": 7,
     "metadata": {},
     "output_type": "execute_result"
    }
   ],
   "source": [
    "print('Размеры полученных наборов:')\n",
    "print('тренировочный - ', features_train.shape[0])\n",
    "print('валидационный - ', features_valid.shape[0])\n",
    "print('тестовый - ', features_test.shape[0])\n",
    "features_train.head()"
   ]
  },
  {
   "cell_type": "markdown",
   "metadata": {},
   "source": [
    "В процессе подготовки данных сначала обрабатываем категориальные признаки(страна и пол) техникой One-Hot Encoding, затем разделяем их на выборки: тренировочную, валидационную и тестовую в пропорциях - 60/20/20%. Далее масштабируем числовые данные.\n",
    "\n",
    "<a id='section2'></a>\n",
    "### 2. Исследование задачи"
   ]
  },
  {
   "cell_type": "code",
   "execution_count": 8,
   "metadata": {},
   "outputs": [],
   "source": [
    "result = pd.DataFrame(columns=['Алгоритм', 'Выравниванию классов', 'F1', 'AUC-ROC', 'Описание'])"
   ]
  },
  {
   "cell_type": "code",
   "execution_count": 9,
   "metadata": {},
   "outputs": [
    {
     "name": "stdout",
     "output_type": "stream",
     "text": [
      "Подобранные гиперпараметры для модели случайного леса\n"
     ]
    },
    {
     "data": {
      "text/plain": [
       "{'max_depth': 9, 'n_estimators': 90}"
      ]
     },
     "execution_count": 9,
     "metadata": {},
     "output_type": "execute_result"
    }
   ],
   "source": [
    "rfc = RandomForestClassifier()\n",
    "parametrs = { 'n_estimators': range (10, 100, 10),\n",
    "              'max_depth': range (1,11)}\n",
    "grid = GridSearchCV(rfc, parametrs)\n",
    "grid.fit(features_train, target_train)\n",
    "forest_estimators = grid.best_params_['n_estimators']\n",
    "forest_depth = grid.best_params_['max_depth']\n",
    "print('Подобранные гиперпараметры для модели случайного леса')\n",
    "grid.best_params_"
   ]
  },
  {
   "cell_type": "code",
   "execution_count": 10,
   "metadata": {},
   "outputs": [
    {
     "name": "stdout",
     "output_type": "stream",
     "text": [
      "Подобранные гиперпараметры для логистической регрессии\n"
     ]
    },
    {
     "data": {
      "text/plain": [
       "{'C': 1, 'penalty': 'l1'}"
      ]
     },
     "execution_count": 10,
     "metadata": {},
     "output_type": "execute_result"
    }
   ],
   "source": [
    "lr = LogisticRegression()\n",
    "grid_values = {'penalty': ['l1','l2'], 'C': [0.001,0.01,0.1,1,10,100,1000]}\n",
    "grid_lr = GridSearchCV(lr, param_grid=grid_values)\n",
    "grid_lr.fit(features_train, target_train)\n",
    "lr_c = grid_lr.best_params_['C']\n",
    "lr_penalty = grid_lr.best_params_['penalty']\n",
    "print('Подобранные гиперпараметры для логистической регрессии')\n",
    "grid_lr.best_params_"
   ]
  },
  {
   "cell_type": "code",
   "execution_count": 11,
   "metadata": {},
   "outputs": [
    {
     "name": "stdout",
     "output_type": "stream",
     "text": [
      "Логистическая регрессия\n",
      "F1: 0.2985074626865672\n",
      "AUC-ROC 0.7747855713957408\n"
     ]
    }
   ],
   "source": [
    "model = LogisticRegression(penalty = lr_penalty, C = lr_c, random_state=12345, solver='liblinear')\n",
    "model.fit(features_train, target_train)\n",
    "predicted_valid = model.predict(features_valid)\n",
    "\n",
    "probabilities_valid = model.predict_proba(features_valid)\n",
    "probabilities_one_valid = probabilities_valid[:, 1]\n",
    "\n",
    "f1 = f1_score(target_valid, predicted_valid)\n",
    "auc_roc = roc_auc_score(target_valid, probabilities_one_valid)\n",
    "result.loc[len(result)] = ('Логистическая регрессия', 'нет', f1, auc_roc, '') \n",
    "print('Логистическая регрессия')\n",
    "print(\"F1:\", f1)\n",
    "print(\"AUC-ROC\", auc_roc)"
   ]
  },
  {
   "cell_type": "code",
   "execution_count": 12,
   "metadata": {},
   "outputs": [
    {
     "name": "stdout",
     "output_type": "stream",
     "text": [
      "Случайный лес\n",
      "F1: 0.5383360522022839\n",
      "AUC-ROC 0.8723746859340079\n"
     ]
    }
   ],
   "source": [
    "model = RandomForestClassifier(n_estimators = forest_estimators, max_depth = forest_depth, random_state=12345)\n",
    "model.fit(features_train, target_train) \n",
    "predicted_valid = model.predict(features_valid)\n",
    "probabilities_valid = model.predict_proba(features_valid)\n",
    "probabilities_one_valid = probabilities_valid[:, 1]\n",
    "f1 = f1_score(target_valid, predicted_valid)\n",
    "auc_roc = roc_auc_score(target_valid, probabilities_one_valid)\n",
    "result.loc[len(result)] = ('Случайный лес', 'нет', f1, auc_roc, '') \n",
    "print('Случайный лес')\n",
    "print(\"F1:\", f1)\n",
    "print(\"AUC-ROC\", auc_roc)"
   ]
  },
  {
   "cell_type": "markdown",
   "metadata": {},
   "source": [
    "Метрика F1 равна 0, AUC-ROC равна 0.5 как у случайной модели, классы несбалансироны.\n",
    "Для исследования используем логистическую регрессию.\n",
    "\n",
    "<div class=\"alert\" style=\"background:#F4E0F9\">Исследовала также случайный лес. После добавление параметров и использования параметра stratify при разделении выборок метрика f1 стала больше нуля, а AUC-ROC увеличилась</div>\n",
    "\n",
    "<a id='section3'></a>\n",
    "### 3. Борьба с дисбалансом"
   ]
  },
  {
   "cell_type": "code",
   "execution_count": 13,
   "metadata": {},
   "outputs": [
    {
     "name": "stdout",
     "output_type": "stream",
     "text": [
      "Логистическая регрессия\n",
      "F1: 0.5076660988074957\n",
      "AUC-ROC 0.7811787133821033\n"
     ]
    }
   ],
   "source": [
    "model = LogisticRegression(penalty = lr_penalty,\n",
    "                           C = lr_c,\n",
    "                           random_state=12345,\n",
    "                           solver='liblinear',\n",
    "                           class_weight = 'balanced')\n",
    "model.fit(features_train, target_train)\n",
    "predicted_valid = model.predict(features_valid)\n",
    "\n",
    "probabilities_valid = model.predict_proba(features_valid)\n",
    "probabilities_one_valid = probabilities_valid[:, 1]\n",
    "\n",
    "f1 = f1_score(target_valid, predicted_valid)\n",
    "auc_roc = roc_auc_score(target_valid, probabilities_one_valid)\n",
    "result.loc[len(result)] = ('Логистическая регрессия', 'есть', f1, auc_roc, '') \n",
    "print('Логистическая регрессия')\n",
    "print(\"F1:\", f1)\n",
    "print(\"AUC-ROC\", auc_roc)"
   ]
  },
  {
   "cell_type": "code",
   "execution_count": 14,
   "metadata": {},
   "outputs": [
    {
     "data": {
      "text/plain": [
       "[<matplotlib.lines.Line2D at 0x7f9015e0f8d0>]"
      ]
     },
     "execution_count": 14,
     "metadata": {},
     "output_type": "execute_result"
    },
    {
     "data": {
      "image/png": "[encoded data removed]",
      "text/plain": [
       "<Figure size 432x288 with 1 Axes>"
      ]
     },
     "metadata": {
      "needs_background": "light"
     },
     "output_type": "display_data"
    }
   ],
   "source": [
    "fpr_lr, tpr_lr, thresholds = roc_curve(target_valid, probabilities_one_valid)\n",
    "plt.figure()\n",
    "plt.title('AUC-ROC кривая')\n",
    "plt.plot(fpr_lr, tpr_lr)"
   ]
  },
  {
   "cell_type": "code",
   "execution_count": 15,
   "metadata": {},
   "outputs": [
    {
     "name": "stdout",
     "output_type": "stream",
     "text": [
      "Случайный лес\n",
      "F1: 0.6409966024915063\n",
      "AUC-ROC 0.8643173219444407\n"
     ]
    }
   ],
   "source": [
    "model = RandomForestClassifier(n_estimators = forest_estimators,\n",
    "                               max_depth = forest_depth,\n",
    "                               random_state=12345,\n",
    "                               class_weight = 'balanced')\n",
    "model.fit(features_train, target_train) \n",
    "predicted_valid = model.predict(features_valid)\n",
    "probabilities_valid = model.predict_proba(features_valid)\n",
    "probabilities_one_valid = probabilities_valid[:, 1]\n",
    "f1 = f1_score(target_valid, predicted_valid)\n",
    "auc_roc = roc_auc_score(target_valid, probabilities_one_valid)\n",
    "result.loc[len(result)] = ('Случайный лес', 'есть', f1, auc_roc, '') \n",
    "print('Случайный лес')\n",
    "print(\"F1:\", f1)\n",
    "print(\"AUC-ROC\", auc_roc)"
   ]
  },
  {
   "cell_type": "code",
   "execution_count": 16,
   "metadata": {},
   "outputs": [
    {
     "data": {
      "text/plain": [
       "[<matplotlib.lines.Line2D at 0x7f9015e0fa50>]"
      ]
     },
     "execution_count": 16,
     "metadata": {},
     "output_type": "execute_result"
    },
    {
     "data": {
      "image/png": "[encoded data removed]",
      "text/plain": [
       "<Figure size 432x288 with 1 Axes>"
      ]
     },
     "metadata": {
      "needs_background": "light"
     },
     "output_type": "display_data"
    }
   ],
   "source": [
    "fpr_forest, tpr_forest, thresholds = roc_curve(target_valid, probabilities_one_valid)\n",
    "plt.figure()\n",
    "plt.title('AUC-ROC кривая')\n",
    "plt.plot(fpr_forest, tpr_forest)"
   ]
  },
  {
   "cell_type": "code",
   "execution_count": 17,
   "metadata": {},
   "outputs": [],
   "source": [
    "# уменьшение выборки\n",
    "def downsample(features, target, fraction):\n",
    "    features_zeros = features[target == 0]\n",
    "    features_ones = features[target == 1]\n",
    "    target_zeros = target[target == 0]\n",
    "    target_ones = target[target == 1]\n",
    "    \n",
    "    features_downsampled = pd.concat(\n",
    "        [features_zeros.sample(frac=fraction, random_state=12345)] + [features_ones]) \n",
    "    target_downsampled = pd.concat(\n",
    "        [target_zeros.sample(frac=fraction, random_state=12345)] + [target_ones]) \n",
    "    \n",
    "    return features_downsampled, target_downsampled\n",
    "\n",
    "features_downsampled, target_downsampled = downsample(features_train, target_train, 0.1)"
   ]
  },
  {
   "cell_type": "code",
   "execution_count": 18,
   "metadata": {},
   "outputs": [
    {
     "name": "stdout",
     "output_type": "stream",
     "text": [
      "Случайный лес на уменьшенной выборке\n",
      "F1: 0.5357933579335793\n",
      "AUC-ROC 0.8651548312565264\n"
     ]
    }
   ],
   "source": [
    "model = RandomForestClassifier(n_estimators = forest_estimators,\n",
    "                               max_depth = forest_depth,\n",
    "                               random_state=12345,\n",
    "                               class_weight = 'balanced')\n",
    "model.fit(features_downsampled, target_downsampled) \n",
    "predicted_valid = model.predict(features_valid)\n",
    "probabilities_valid = model.predict_proba(features_valid)\n",
    "probabilities_one_valid = probabilities_valid[:, 1]\n",
    "f1 = f1_score(target_valid, predicted_valid)\n",
    "auc_roc = roc_auc_score(target_valid, probabilities_one_valid)\n",
    "result.loc[len(result)] = ('Случайный лес', 'есть', f1, auc_roc, 'уменьшена выборка') \n",
    "print('Случайный лес на уменьшенной выборке')\n",
    "print(\"F1:\", f1)\n",
    "print(\"AUC-ROC\", auc_roc)"
   ]
  },
  {
   "cell_type": "code",
   "execution_count": 19,
   "metadata": {},
   "outputs": [
    {
     "name": "stdout",
     "output_type": "stream",
     "text": [
      "Логистическая регрессия на уменьшенной выборке\n",
      "F1: 0.5033670033670034\n",
      "AUC-ROC 0.7790625756727451\n"
     ]
    }
   ],
   "source": [
    "model = LogisticRegression(penalty = lr_penalty,\n",
    "                           C = lr_c,\n",
    "                           random_state=12345,\n",
    "                           solver='liblinear',\n",
    "                           class_weight = 'balanced')\n",
    "model.fit(features_downsampled, target_downsampled)\n",
    "predicted_valid = model.predict(features_valid)\n",
    "\n",
    "probabilities_valid = model.predict_proba(features_valid)\n",
    "probabilities_one_valid = probabilities_valid[:, 1]\n",
    "\n",
    "f1 = f1_score(target_valid, predicted_valid)\n",
    "auc_roc = roc_auc_score(target_valid, probabilities_one_valid)\n",
    "result.loc[len(result)] = ('Логистическая регрессия', 'есть', f1, auc_roc, 'уменьшена выборка') \n",
    "print('Логистическая регрессия на уменьшенной выборке')\n",
    "print(\"F1:\", f1)\n",
    "print(\"AUC-ROC\", auc_roc)"
   ]
  },
  {
   "cell_type": "markdown",
   "metadata": {},
   "source": [
    "Для борьбы с дисбалансом классов используем гиперпарамерт class_weight = 'balanced'.\n",
    "\n",
    "Показатели улучшились, но нужное значение F1-меры ещё не достигнуто.\n",
    "\n",
    "Применим модель случайного леса."
   ]
  },
  {
   "cell_type": "markdown",
   "metadata": {},
   "source": [
    "Модель случайного леса показала лучший результат на валидационной выборке. В цикле подобрали оптимальные гиперпараметы.\n",
    "<a id='section4'></a>\n",
    "### 4. Тестирование модели"
   ]
  },
  {
   "cell_type": "code",
   "execution_count": 20,
   "metadata": {},
   "outputs": [
    {
     "name": "stdout",
     "output_type": "stream",
     "text": [
      "F1: 0.6352413019079686\n",
      "AUC-ROC 0.8747730781629086\n"
     ]
    }
   ],
   "source": [
    "new_features = pd.concat([features_train, features_valid], ignore_index=True)\n",
    "new_target = pd.concat([target_train, target_valid], ignore_index=True)\n",
    "\n",
    "model = RandomForestClassifier(n_estimators = forest_estimators,\n",
    "                               max_depth = forest_depth,\n",
    "                               random_state=12345,\n",
    "                               class_weight = 'balanced')\n",
    "model.fit(new_features, new_target) \n",
    "\n",
    "predicted_test = model.predict(features_test)\n",
    "probabilities_test = model.predict_proba(features_test)\n",
    "probabilities_one_test = probabilities_test[:, 1]\n",
    "f1 = f1_score(target_test, predicted_test)\n",
    "auc_roc = roc_auc_score(target_test, probabilities_one_test)\n",
    "result.loc[len(result)] = ('Случайный лес', 'есть', f1, auc_roc, 'тестовая выборка') \n",
    "\n",
    "print(\"F1:\", f1)\n",
    "print(\"AUC-ROC\", auc_roc)"
   ]
  },
  {
   "cell_type": "code",
   "execution_count": 21,
   "metadata": {},
   "outputs": [
    {
     "data": {
      "text/html": [
       "<div>\n",
       "<style scoped>\n",
       "    .dataframe tbody tr th:only-of-type {\n",
       "        vertical-align: middle;\n",
       "    }\n",
       "\n",
       "    .dataframe tbody tr th {\n",
       "        vertical-align: top;\n",
       "    }\n",
       "\n",
       "    .dataframe thead th {\n",
       "        text-align: right;\n",
       "    }\n",
       "</style>\n",
       "<table border=\"1\" class=\"dataframe\">\n",
       "  <thead>\n",
       "    <tr style=\"text-align: right;\">\n",
       "      <th></th>\n",
       "      <th>Алгоритм</th>\n",
       "      <th>Выравниванию классов</th>\n",
       "      <th>F1</th>\n",
       "      <th>AUC-ROC</th>\n",
       "      <th>Описание</th>\n",
       "    </tr>\n",
       "  </thead>\n",
       "  <tbody>\n",
       "    <tr>\n",
       "      <td>0</td>\n",
       "      <td>Логистическая регрессия</td>\n",
       "      <td>нет</td>\n",
       "      <td>0.298507</td>\n",
       "      <td>0.774786</td>\n",
       "      <td></td>\n",
       "    </tr>\n",
       "    <tr>\n",
       "      <td>1</td>\n",
       "      <td>Случайный лес</td>\n",
       "      <td>нет</td>\n",
       "      <td>0.538336</td>\n",
       "      <td>0.872375</td>\n",
       "      <td></td>\n",
       "    </tr>\n",
       "    <tr>\n",
       "      <td>2</td>\n",
       "      <td>Логистическая регрессия</td>\n",
       "      <td>есть</td>\n",
       "      <td>0.507666</td>\n",
       "      <td>0.781179</td>\n",
       "      <td></td>\n",
       "    </tr>\n",
       "    <tr>\n",
       "      <td>3</td>\n",
       "      <td>Случайный лес</td>\n",
       "      <td>есть</td>\n",
       "      <td>0.640997</td>\n",
       "      <td>0.864317</td>\n",
       "      <td></td>\n",
       "    </tr>\n",
       "    <tr>\n",
       "      <td>4</td>\n",
       "      <td>Случайный лес</td>\n",
       "      <td>есть</td>\n",
       "      <td>0.535793</td>\n",
       "      <td>0.865155</td>\n",
       "      <td>уменьшена выборка</td>\n",
       "    </tr>\n",
       "    <tr>\n",
       "      <td>5</td>\n",
       "      <td>Логистическая регрессия</td>\n",
       "      <td>есть</td>\n",
       "      <td>0.503367</td>\n",
       "      <td>0.779063</td>\n",
       "      <td>уменьшена выборка</td>\n",
       "    </tr>\n",
       "    <tr>\n",
       "      <td>6</td>\n",
       "      <td>Случайный лес</td>\n",
       "      <td>есть</td>\n",
       "      <td>0.635241</td>\n",
       "      <td>0.874773</td>\n",
       "      <td>тестовая выборка</td>\n",
       "    </tr>\n",
       "  </tbody>\n",
       "</table>\n",
       "</div>"
      ],
      "text/plain": [
       "                  Алгоритм Выравниванию классов        F1   AUC-ROC  \\\n",
       "0  Логистическая регрессия                  нет  0.298507  0.774786   \n",
       "1            Случайный лес                  нет  0.538336  0.872375   \n",
       "2  Логистическая регрессия                 есть  0.507666  0.781179   \n",
       "3            Случайный лес                 есть  0.640997  0.864317   \n",
       "4            Случайный лес                 есть  0.535793  0.865155   \n",
       "5  Логистическая регрессия                 есть  0.503367  0.779063   \n",
       "6            Случайный лес                 есть  0.635241  0.874773   \n",
       "\n",
       "            Описание  \n",
       "0                     \n",
       "1                     \n",
       "2                     \n",
       "3                     \n",
       "4  уменьшена выборка  \n",
       "5  уменьшена выборка  \n",
       "6   тестовая выборка  "
      ]
     },
     "execution_count": 21,
     "metadata": {},
     "output_type": "execute_result"
    }
   ],
   "source": [
    "result"
   ]
  },
  {
   "cell_type": "markdown",
   "metadata": {
    "pycharm": {
     "name": "#%% md\n"
    }
   },
   "source": [
    "<a id='section5'></a>\n",
    "### 5. Вывод\n",
    "Тестирование полученной модели показало, что мера F1 достигла нужного результата.\n",
    "\n",
    "Была составлена таблица с результатами. Случайный лес показал более высокие значения метрик по сравнению с логистической регрессией. Для тестовой выборки F1 достигла 0.63, AUC-ROC - 0.87. \n",
    "Были подобраны гиперпараметры для моделей."
   ]
  }
 ],
 "metadata": {
  "kernelspec": {
   "display_name": "Python 3",
   "language": "python",
   "name": "python3"
  },
  "language_info": {
   "codemirror_mode": {
    "name": "ipython",
    "version": 3
   },
   "file_extension": ".py",
   "mimetype": "text/x-python",
   "name": "python",
   "nbconvert_exporter": "python",
   "pygments_lexer": "ipython3",
   "version": "3.7.8"
  },
  "toc": {
   "base_numbering": 1,
   "nav_menu": {},
   "number_sections": true,
   "sideBar": true,
   "skip_h1_title": true,
   "title_cell": "Table of Contents",
   "title_sidebar": "Contents",
   "toc_cell": false,
   "toc_position": {},
   "toc_section_display": true,
   "toc_window_display": false
  }
 },
 "nbformat": 4,
 "nbformat_minor": 2
}