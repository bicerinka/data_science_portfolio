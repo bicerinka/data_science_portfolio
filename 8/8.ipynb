{
 "cells": [
  {
   "cell_type": "markdown",
   "metadata": {},
   "source": [
    "## Предсказания для золотодобычи\n",
    "\n",
    "<a href='#section1'>1. Подготовка данных</a>\n",
    "\n",
    "<a href='#section2'>2. Анализ данных</a>\n",
    "\n",
    "<a href='#section3'>3. Модель</a>\n",
    "\n",
    "<a href='#section4'>Вывод</a>"
   ]
  },
  {
   "cell_type": "markdown",
   "metadata": {},
   "source": [
    "<a id='section1'></a>\n",
    "### 1. Подготовка данных\n",
    "\n",
    "Проверим, что  рассчёт эффективности обогащения правильный."
   ]
  },
  {
   "cell_type": "code",
   "execution_count": 1,
   "metadata": {},
   "outputs": [],
   "source": [
    "import pandas as pd\n",
    "import warnings\n",
    "from sklearn.metrics import mean_absolute_error\n",
    "from sklearn.preprocessing import StandardScaler\n",
    "import matplotlib.pyplot as plt\n",
    "from sklearn.model_selection import GridSearchCV\n",
    "from sklearn.preprocessing import StandardScaler\n",
    "from sklearn.ensemble import RandomForestRegressor\n",
    "from sklearn.dummy import DummyRegressor\n",
    "import numpy as np\n",
    "from sklearn.model_selection import cross_val_score\n",
    "from sklearn.svm import SVR\n",
    "import seaborn as sns\n",
    "warnings.filterwarnings('ignore')"
   ]
  },
  {
   "cell_type": "code",
   "execution_count": 2,
   "metadata": {},
   "outputs": [
    {
     "name": "stdout",
     "output_type": "stream",
     "text": [
      "<class 'pandas.core.frame.DataFrame'>\n",
      "RangeIndex: 16860 entries, 0 to 16859\n",
      "Data columns (total 87 columns):\n",
      "date                                                  16860 non-null object\n",
      "final.output.concentrate_ag                           16788 non-null float64\n",
      "final.output.concentrate_pb                           16788 non-null float64\n",
      "final.output.concentrate_sol                          16490 non-null float64\n",
      "final.output.concentrate_au                           16789 non-null float64\n",
      "final.output.recovery                                 15339 non-null float64\n",
      "final.output.tail_ag                                  16794 non-null float64\n",
      "final.output.tail_pb                                  16677 non-null float64\n",
      "final.output.tail_sol                                 16715 non-null float64\n",
      "final.output.tail_au                                  16794 non-null float64\n",
      "primary_cleaner.input.sulfate                         15553 non-null float64\n",
      "primary_cleaner.input.depressant                      15598 non-null float64\n",
      "primary_cleaner.input.feed_size                       16860 non-null float64\n",
      "primary_cleaner.input.xanthate                        15875 non-null float64\n",
      "primary_cleaner.output.concentrate_ag                 16778 non-null float64\n",
      "primary_cleaner.output.concentrate_pb                 16502 non-null float64\n",
      "primary_cleaner.output.concentrate_sol                16224 non-null float64\n",
      "primary_cleaner.output.concentrate_au                 16778 non-null float64\n",
      "primary_cleaner.output.tail_ag                        16777 non-null float64\n",
      "primary_cleaner.output.tail_pb                        16761 non-null float64\n",
      "primary_cleaner.output.tail_sol                       16579 non-null float64\n",
      "primary_cleaner.output.tail_au                        16777 non-null float64\n",
      "primary_cleaner.state.floatbank8_a_air                16820 non-null float64\n",
      "primary_cleaner.state.floatbank8_a_level              16827 non-null float64\n",
      "primary_cleaner.state.floatbank8_b_air                16820 non-null float64\n",
      "primary_cleaner.state.floatbank8_b_level              16833 non-null float64\n",
      "primary_cleaner.state.floatbank8_c_air                16822 non-null float64\n",
      "primary_cleaner.state.floatbank8_c_level              16833 non-null float64\n",
      "primary_cleaner.state.floatbank8_d_air                16821 non-null float64\n",
      "primary_cleaner.state.floatbank8_d_level              16833 non-null float64\n",
      "rougher.calculation.sulfate_to_au_concentrate         16833 non-null float64\n",
      "rougher.calculation.floatbank10_sulfate_to_au_feed    16833 non-null float64\n",
      "rougher.calculation.floatbank11_sulfate_to_au_feed    16833 non-null float64\n",
      "rougher.calculation.au_pb_ratio                       15618 non-null float64\n",
      "rougher.input.feed_ag                                 16778 non-null float64\n",
      "rougher.input.feed_pb                                 16632 non-null float64\n",
      "rougher.input.feed_rate                               16347 non-null float64\n",
      "rougher.input.feed_size                               16443 non-null float64\n",
      "rougher.input.feed_sol                                16568 non-null float64\n",
      "rougher.input.feed_au                                 16777 non-null float64\n",
      "rougher.input.floatbank10_sulfate                     15816 non-null float64\n",
      "rougher.input.floatbank10_xanthate                    16514 non-null float64\n",
      "rougher.input.floatbank11_sulfate                     16237 non-null float64\n",
      "rougher.input.floatbank11_xanthate                    14956 non-null float64\n",
      "rougher.output.concentrate_ag                         16778 non-null float64\n",
      "rougher.output.concentrate_pb                         16778 non-null float64\n",
      "rougher.output.concentrate_sol                        16698 non-null float64\n",
      "rougher.output.concentrate_au                         16778 non-null float64\n",
      "rougher.output.recovery                               14287 non-null float64\n",
      "rougher.output.tail_ag                                14610 non-null float64\n",
      "rougher.output.tail_pb                                16778 non-null float64\n",
      "rougher.output.tail_sol                               14611 non-null float64\n",
      "rougher.output.tail_au                                14611 non-null float64\n",
      "rougher.state.floatbank10_a_air                       16807 non-null float64\n",
      "rougher.state.floatbank10_a_level                     16807 non-null float64\n",
      "rougher.state.floatbank10_b_air                       16807 non-null float64\n",
      "rougher.state.floatbank10_b_level                     16807 non-null float64\n",
      "rougher.state.floatbank10_c_air                       16807 non-null float64\n",
      "rougher.state.floatbank10_c_level                     16814 non-null float64\n",
      "rougher.state.floatbank10_d_air                       16802 non-null float64\n",
      "rougher.state.floatbank10_d_level                     16809 non-null float64\n",
      "rougher.state.floatbank10_e_air                       16257 non-null float64\n",
      "rougher.state.floatbank10_e_level                     16809 non-null float64\n",
      "rougher.state.floatbank10_f_air                       16802 non-null float64\n",
      "rougher.state.floatbank10_f_level                     16802 non-null float64\n",
      "secondary_cleaner.output.tail_ag                      16776 non-null float64\n",
      "secondary_cleaner.output.tail_pb                      16764 non-null float64\n",
      "secondary_cleaner.output.tail_sol                     14874 non-null float64\n",
      "secondary_cleaner.output.tail_au                      16778 non-null float64\n",
      "secondary_cleaner.state.floatbank2_a_air              16497 non-null float64\n",
      "secondary_cleaner.state.floatbank2_a_level            16751 non-null float64\n",
      "secondary_cleaner.state.floatbank2_b_air              16705 non-null float64\n",
      "secondary_cleaner.state.floatbank2_b_level            16748 non-null float64\n",
      "secondary_cleaner.state.floatbank3_a_air              16763 non-null float64\n",
      "secondary_cleaner.state.floatbank3_a_level            16747 non-null float64\n",
      "secondary_cleaner.state.floatbank3_b_air              16752 non-null float64\n",
      "secondary_cleaner.state.floatbank3_b_level            16750 non-null float64\n",
      "secondary_cleaner.state.floatbank4_a_air              16731 non-null float64\n",
      "secondary_cleaner.state.floatbank4_a_level            16747 non-null float64\n",
      "secondary_cleaner.state.floatbank4_b_air              16768 non-null float64\n",
      "secondary_cleaner.state.floatbank4_b_level            16767 non-null float64\n",
      "secondary_cleaner.state.floatbank5_a_air              16775 non-null float64\n",
      "secondary_cleaner.state.floatbank5_a_level            16775 non-null float64\n",
      "secondary_cleaner.state.floatbank5_b_air              16775 non-null float64\n",
      "secondary_cleaner.state.floatbank5_b_level            16776 non-null float64\n",
      "secondary_cleaner.state.floatbank6_a_air              16757 non-null float64\n",
      "secondary_cleaner.state.floatbank6_a_level            16775 non-null float64\n",
      "dtypes: float64(86), object(1)\n",
      "memory usage: 11.2+ MB\n"
     ]
    }
   ],
   "source": [
    "train = pd.read_csv('/datasets/gold_recovery_train.csv')\n",
    "test = pd.read_csv('/datasets/gold_recovery_test.csv')\n",
    "full = pd.read_csv('/datasets/gold_recovery_full.csv')\n",
    "train.info()"
   ]
  },
  {
   "cell_type": "code",
   "execution_count": 3,
   "metadata": {},
   "outputs": [
    {
     "name": "stdout",
     "output_type": "stream",
     "text": [
      "<class 'pandas.core.frame.DataFrame'>\n",
      "RangeIndex: 5856 entries, 0 to 5855\n",
      "Data columns (total 53 columns):\n",
      "date                                          5856 non-null object\n",
      "primary_cleaner.input.sulfate                 5554 non-null float64\n",
      "primary_cleaner.input.depressant              5572 non-null float64\n",
      "primary_cleaner.input.feed_size               5856 non-null float64\n",
      "primary_cleaner.input.xanthate                5690 non-null float64\n",
      "primary_cleaner.state.floatbank8_a_air        5840 non-null float64\n",
      "primary_cleaner.state.floatbank8_a_level      5840 non-null float64\n",
      "primary_cleaner.state.floatbank8_b_air        5840 non-null float64\n",
      "primary_cleaner.state.floatbank8_b_level      5840 non-null float64\n",
      "primary_cleaner.state.floatbank8_c_air        5840 non-null float64\n",
      "primary_cleaner.state.floatbank8_c_level      5840 non-null float64\n",
      "primary_cleaner.state.floatbank8_d_air        5840 non-null float64\n",
      "primary_cleaner.state.floatbank8_d_level      5840 non-null float64\n",
      "rougher.input.feed_ag                         5840 non-null float64\n",
      "rougher.input.feed_pb                         5840 non-null float64\n",
      "rougher.input.feed_rate                       5816 non-null float64\n",
      "rougher.input.feed_size                       5834 non-null float64\n",
      "rougher.input.feed_sol                        5789 non-null float64\n",
      "rougher.input.feed_au                         5840 non-null float64\n",
      "rougher.input.floatbank10_sulfate             5599 non-null float64\n",
      "rougher.input.floatbank10_xanthate            5733 non-null float64\n",
      "rougher.input.floatbank11_sulfate             5801 non-null float64\n",
      "rougher.input.floatbank11_xanthate            5503 non-null float64\n",
      "rougher.state.floatbank10_a_air               5839 non-null float64\n",
      "rougher.state.floatbank10_a_level             5840 non-null float64\n",
      "rougher.state.floatbank10_b_air               5839 non-null float64\n",
      "rougher.state.floatbank10_b_level             5840 non-null float64\n",
      "rougher.state.floatbank10_c_air               5839 non-null float64\n",
      "rougher.state.floatbank10_c_level             5840 non-null float64\n",
      "rougher.state.floatbank10_d_air               5839 non-null float64\n",
      "rougher.state.floatbank10_d_level             5840 non-null float64\n",
      "rougher.state.floatbank10_e_air               5839 non-null float64\n",
      "rougher.state.floatbank10_e_level             5840 non-null float64\n",
      "rougher.state.floatbank10_f_air               5839 non-null float64\n",
      "rougher.state.floatbank10_f_level             5840 non-null float64\n",
      "secondary_cleaner.state.floatbank2_a_air      5836 non-null float64\n",
      "secondary_cleaner.state.floatbank2_a_level    5840 non-null float64\n",
      "secondary_cleaner.state.floatbank2_b_air      5833 non-null float64\n",
      "secondary_cleaner.state.floatbank2_b_level    5840 non-null float64\n",
      "secondary_cleaner.state.floatbank3_a_air      5822 non-null float64\n",
      "secondary_cleaner.state.floatbank3_a_level    5840 non-null float64\n",
      "secondary_cleaner.state.floatbank3_b_air      5840 non-null float64\n",
      "secondary_cleaner.state.floatbank3_b_level    5840 non-null float64\n",
      "secondary_cleaner.state.floatbank4_a_air      5840 non-null float64\n",
      "secondary_cleaner.state.floatbank4_a_level    5840 non-null float64\n",
      "secondary_cleaner.state.floatbank4_b_air      5840 non-null float64\n",
      "secondary_cleaner.state.floatbank4_b_level    5840 non-null float64\n",
      "secondary_cleaner.state.floatbank5_a_air      5840 non-null float64\n",
      "secondary_cleaner.state.floatbank5_a_level    5840 non-null float64\n",
      "secondary_cleaner.state.floatbank5_b_air      5840 non-null float64\n",
      "secondary_cleaner.state.floatbank5_b_level    5840 non-null float64\n",
      "secondary_cleaner.state.floatbank6_a_air      5840 non-null float64\n",
      "secondary_cleaner.state.floatbank6_a_level    5840 non-null float64\n",
      "dtypes: float64(52), object(1)\n",
      "memory usage: 2.4+ MB\n"
     ]
    }
   ],
   "source": [
    "test.info()"
   ]
  },
  {
   "cell_type": "markdown",
   "metadata": {},
   "source": [
    "Обучающая выборка содержат почти 17 тыся строк, тестовая - почти 6. В данных много пропусков и количество столбцов не совпадает. В тестовой выборке отсутствуют целевые значения."
   ]
  },
  {
   "cell_type": "code",
   "execution_count": 4,
   "metadata": {},
   "outputs": [
    {
     "name": "stdout",
     "output_type": "stream",
     "text": [
      "MAE между расчётами и значением признака 9.444891926100695e-15\n"
     ]
    }
   ],
   "source": [
    "train_mae = train.dropna(subset=['rougher.output.recovery'])\n",
    "c = train_mae['rougher.output.concentrate_au']\n",
    "f = train_mae['rougher.input.feed_au']\n",
    "t = train_mae['rougher.output.tail_au']    \n",
    "train_mae['recovery'] = ((c * (f - t))) / (f * (c - t)) * 100\n",
    "mae = mean_absolute_error(train_mae['rougher.output.recovery'], train_mae['recovery'])\n",
    "print('MAE между расчётами и значением признака', mae)"
   ]
  },
  {
   "cell_type": "markdown",
   "metadata": {},
   "source": [
    "Эффективность обогащения рассчитана правильно, т.к. ошибка очень маленькая."
   ]
  },
  {
   "cell_type": "code",
   "execution_count": 5,
   "metadata": {},
   "outputs": [],
   "source": [
    "target_cols = ['rougher.output.recovery', 'final.output.recovery']\n",
    "test[target_cols[0]] = full[target_cols[0]]\n",
    "test[target_cols[1]] = full[target_cols[1]]\n",
    "delete_cols = []\n",
    "cols = []\n",
    "arr1 = train.columns.tolist()\n",
    "arr2 = test.columns.tolist()\n",
    "for col in arr1:\n",
    "    if col not in arr2:\n",
    "        delete_cols.append(col)\n",
    "    else:\n",
    "        cols.append(col)\n",
    "        \n",
    "train = train.dropna(subset=cols)\n",
    "test = test.dropna()"
   ]
  },
  {
   "cell_type": "markdown",
   "metadata": {},
   "source": [
    "Целевые значения в тестовой выборке заполняем из полной выборки по совпадению даты. Удалим столбцы, которых нет в тестовой выборке из тренировочной(чуть ниже, т.к. некоторые понадобятся для расчётов). Недостающие столбцы содержат данные, которые будут известны только в конце технологического процесса. Также удаляем пропуски в обеих выборках.\n",
    "\n",
    "<a id='section2'></a>\n",
    "### 2. Анализ данных"
   ]
  },
  {
   "cell_type": "code",
   "execution_count": 6,
   "metadata": {},
   "outputs": [
    {
     "data": {
      "image/png": "[encoded data removed]",
      "text/plain": [
       "<Figure size 432x288 with 1 Axes>"
      ]
     },
     "metadata": {
      "needs_background": "light"
     },
     "output_type": "display_data"
    }
   ],
   "source": [
    "au = [full['rougher.input.feed_au'].mean(), full['rougher.output.concentrate_au'].mean(),\n",
    "      full['primary_cleaner.output.concentrate_au'].mean(), full['final.output.concentrate_au'].mean()]\n",
    "\n",
    "ag = [full['rougher.input.feed_ag'].mean(), full['rougher.output.concentrate_ag'].mean(),\n",
    "      full['primary_cleaner.output.concentrate_ag'].mean(), full['final.output.concentrate_ag'].mean()]\n",
    "\n",
    "pb = [full['rougher.input.feed_pb'].mean(), full['rougher.output.concentrate_pb'].mean(),\n",
    "      full['primary_cleaner.output.concentrate_pb'].mean(), full['final.output.concentrate_pb'].mean()]\n",
    "\n",
    "pd.DataFrame({'Au': au, 'Ag': ag, 'Pb': pb}).plot(style = 'o-', grid = True)\n",
    "plt.title('Концентрация металлов на различных этапах очистки')\n",
    "plt.show()"
   ]
  },
  {
   "cell_type": "markdown",
   "metadata": {},
   "source": [
    "Концентрация золота равномерно повышается на различных этапах очистки. Концентрация свинца также постепенно повышается, в конце процесса его концентрация в четыре раза меньше золота. Серебра вначале столько же сколько и золота, а к концу в восемь раз меньше. \n",
    "\n"
   ]
  },
  {
   "cell_type": "code",
   "execution_count": 7,
   "metadata": {
    "scrolled": true
   },
   "outputs": [
    {
     "name": "stdout",
     "output_type": "stream",
     "text": [
      "Средние размеры гранул в выборках:\n",
      "Обучающая -  58\n",
      "Тестовая -  57\n"
     ]
    },
    {
     "data": {
      "image/png": "[encoded data removed]",
      "text/plain": [
       "<Figure size 864x360 with 1 Axes>"
      ]
     },
     "metadata": {
      "needs_background": "light"
     },
     "output_type": "display_data"
    }
   ],
   "source": [
    "train_feed_size = train['rougher.input.feed_size']\n",
    "test_feed_size = test['rougher.input.feed_size']\n",
    "print('Средние размеры гранул в выборках:')\n",
    "print('Обучающая - ', round(train_feed_size.mean()))\n",
    "print('Тестовая - ', round(test_feed_size.mean()))\n",
    "\n",
    "pd.DataFrame({'Обучающая': train_feed_size, 'Тестовая': test_feed_size}).plot(\n",
    "    kind='hist', histtype='step', xlim=(0,120), linewidth='5', figsize = (12,5))\n",
    "plt.title('Размеры гранул сырья в выборках')\n",
    "plt.show()"
   ]
  },
  {
   "cell_type": "code",
   "execution_count": 28,
   "metadata": {},
   "outputs": [
    {
     "data": {
      "text/plain": [
       "(1, 180)"
      ]
     },
     "execution_count": 28,
     "metadata": {},
     "output_type": "execute_result"
    },
    {
     "data": {
      "image/png": "[encoded data removed]",
      "text/plain": [
       "<Figure size 864x360 with 1 Axes>"
      ]
     },
     "metadata": {},
     "output_type": "display_data"
    }
   ],
   "source": [
    "fig, ax = plt.subplots()\n",
    "#sns.set_style('darkgrid')\n",
    "#sns.set(rc={'figure.figsize':(12,5)})\n",
    "sns.distplot(train_feed_size)\n",
    "sns.distplot(test_feed_size)\n",
    "ax.set_xlim(1,180)\n"
   ]
  },
  {
   "cell_type": "markdown",
   "metadata": {},
   "source": [
    "Распределения размеров гранул сырья на обучающей и тестовой выборках примерно одинаковые, они имеют совпадающую форму графиков, отличаются масштабом из-за разного количества строк в данных. В тестовой выборке размеры гранул распределены более равномерно, а в обучающей больше крупных гранул.\n",
    "\n",
    "Средние размеры гранул почти одинаковые."
   ]
  },
  {
   "cell_type": "markdown",
   "metadata": {},
   "source": [
    "<div class=\"alert alert-info\" style=\"color:#000000\">Добавила график, только не нашла параметр, чтобы ограничить по оси x.</div>"
   ]
  },
  {
   "cell_type": "code",
   "execution_count": 9,
   "metadata": {},
   "outputs": [
    {
     "data": {
      "image/png": "[encoded data removed]",
      "text/plain": [
       "<Figure size 1080x360 with 1 Axes>"
      ]
     },
     "metadata": {},
     "output_type": "display_data"
    }
   ],
   "source": [
    "concentrate1 = (full['rougher.output.concentrate_au'] + \n",
    "                                full['rougher.output.concentrate_ag'] + full['rougher.output.concentrate_pb'] )\n",
    "\n",
    "concentrate2 = (full['primary_cleaner.output.concentrate_au'] + \n",
    "                    full['primary_cleaner.output.concentrate_ag'] + full['primary_cleaner.output.concentrate_pb'])\n",
    "\n",
    "concentrate3 = (full['final.output.concentrate_au'] + \n",
    "                                    full['final.output.concentrate_ag'] + full['final.output.concentrate_pb'])\n",
    "\n",
    "pd.DataFrame({'сырье': concentrate1, 'черновая': concentrate2, 'финальная': concentrate3}).plot(\n",
    "    kind='hist', histtype='step', linewidth='5', xlim=(0,80), figsize = (15,5))\n",
    "plt.title('Суммарная концентрацию веществ на разных стадиях очистки')\n",
    "plt.show()"
   ]
  },
  {
   "cell_type": "code",
   "execution_count": 10,
   "metadata": {},
   "outputs": [],
   "source": [
    "train = train[((train['rougher.output.concentrate_au'] + train['rougher.output.concentrate_ag']\n",
    "               + train['rougher.output.concentrate_pb'] ) != 0) &\n",
    "((train['primary_cleaner.output.concentrate_au'] + train['primary_cleaner.output.concentrate_ag'] +\n",
    "  train['primary_cleaner.output.concentrate_pb']) != 0) & ((train['final.output.concentrate_au'] + \n",
    "            train['final.output.concentrate_ag'] + train['final.output.concentrate_pb']) != 0)]\n",
    "train = train.drop(delete_cols, axis=1)\n",
    "train = train.dropna()"
   ]
  },
  {
   "cell_type": "markdown",
   "metadata": {},
   "source": [
    "Исследование суммарной концентрации всех веществ на разных стадиях в полной выборке показало, что есть 0. Это аномальные значения, удалим их из обучающей выборки. В тестовой выборке таких столбцов нет.\n",
    "\n",
    "\n",
    "<a id='section3'></a>\n",
    "### 3. Модель\n",
    "Функцию для вычисления итоговой sMAPE.\n",
    "\n",
    "Обучим разные модели и оценим их качество кросс-валидацией."
   ]
  },
  {
   "cell_type": "code",
   "execution_count": 11,
   "metadata": {},
   "outputs": [],
   "source": [
    "# функции для вычисления sMAPE.\n",
    "def smape(predictions, target):\n",
    "    target = target.tolist()\n",
    "    count = len(predictions)\n",
    "    result = 0\n",
    "    for i in range(0,count):\n",
    "        result += abs(target[i] - predictions[i]) * 100 / ((abs(target[i]) + abs(predictions[i])) / 2)\n",
    "        \n",
    "    return result / count\n",
    "\n",
    "def smape_all(rougher, final):       \n",
    "    return 0.25 * rougher + 0.75 * final"
   ]
  },
  {
   "cell_type": "code",
   "execution_count": 12,
   "metadata": {},
   "outputs": [
    {
     "name": "stdout",
     "output_type": "stream",
     "text": [
      "Размеры полученных наборов:\n",
      "обучающий -  12386\n",
      "тестовый -  4554\n"
     ]
    }
   ],
   "source": [
    "train = train.drop(['date'], axis=1)\n",
    "rougher = train[target_cols[0]]\n",
    "final = train[target_cols[1]]\n",
    "train = train.drop(target_cols, axis=1)\n",
    "\n",
    "test = test.drop(['date'], axis=1)\n",
    "rougher_test = test[target_cols[0]]\n",
    "final_test = test[target_cols[1]]\n",
    "test = test.drop(target_cols, axis=1)\n",
    "\n",
    "scaler = StandardScaler()\n",
    "scaler.fit(train)\n",
    "train = scaler.transform(train)\n",
    "test = scaler.transform(test)\n",
    "\n",
    "print('Размеры полученных наборов:')\n",
    "print('обучающий - ', train.shape[0])\n",
    "print('тестовый - ', test.shape[0])"
   ]
  },
  {
   "cell_type": "code",
   "execution_count": 13,
   "metadata": {},
   "outputs": [
    {
     "name": "stdout",
     "output_type": "stream",
     "text": [
      "Подобранные гиперпараметры для модели случайного леса\n"
     ]
    },
    {
     "data": {
      "text/plain": [
       "{'max_depth': 2, 'n_estimators': 10}"
      ]
     },
     "execution_count": 13,
     "metadata": {},
     "output_type": "execute_result"
    }
   ],
   "source": [
    "rfc = RandomForestRegressor()\n",
    "parametrs = { 'n_estimators': range (10, 80, 20), 'max_depth': range (1,10)}\n",
    "grid = GridSearchCV(rfc, parametrs)\n",
    "grid.fit(train, rougher)\n",
    "print('Подобранные гиперпараметры для модели случайного леса')\n",
    "grid.best_params_"
   ]
  },
  {
   "cell_type": "code",
   "execution_count": 21,
   "metadata": {},
   "outputs": [
    {
     "name": "stdout",
     "output_type": "stream",
     "text": [
      "Итоговая sMAPE 13.005989525394178\n"
     ]
    }
   ],
   "source": [
    "model = RandomForestRegressor(n_estimators = 10, max_depth = 2, random_state=12345)\n",
    "model.fit(train, rougher)\n",
    "predictions_rouger = model.predict(test)\n",
    "model.fit(train, final)\n",
    "predictions_final = model.predict(test)\n",
    "smape_rouger = smape(predictions_rouger, rougher_test)\n",
    "smap_final = smape(predictions_final, final_test)\n",
    "print('Итоговая sMAPE', smape_all(smape_rouger, smap_final))"
   ]
  },
  {
   "cell_type": "code",
   "execution_count": 15,
   "metadata": {},
   "outputs": [
    {
     "name": "stdout",
     "output_type": "stream",
     "text": [
      "Подобранные гиперпараметры для модели svr\n"
     ]
    },
    {
     "data": {
      "text/plain": [
       "{'C': 10, 'gamma': 0.01}"
      ]
     },
     "execution_count": 15,
     "metadata": {},
     "output_type": "execute_result"
    }
   ],
   "source": [
    "svr = SVR(kernel='rbf')\n",
    "parameters = {'gamma': [0.01, 0.1, 1, 10], 'C': [0.01, 0.1, 1, 10]}\n",
    "\n",
    "grid = GridSearchCV(estimator=svr, param_grid = parameters, cv=3)\n",
    "grid.fit(train, rougher)\n",
    "print('Подобранные гиперпараметры для модели svr')\n",
    "grid.best_params_"
   ]
  },
  {
   "cell_type": "code",
   "execution_count": 20,
   "metadata": {},
   "outputs": [
    {
     "name": "stdout",
     "output_type": "stream",
     "text": [
      "Итоговая sMAPE 11.846885081821995\n"
     ]
    }
   ],
   "source": [
    "model = SVR(kernel='rbf', C = 0.1, gamma = 0.1)\n",
    "model.fit(train, rougher)\n",
    "predictions_rouger = model.predict(test)\n",
    "model.fit(train, final)\n",
    "predictions_final = model.predict(test)\n",
    "smape_rouger = smape(predictions_rouger, rougher_test)\n",
    "smap_final = smape(predictions_final, final_test)\n",
    "print('Итоговая sMAPE', smape_all(smape_rouger, smap_final))"
   ]
  },
  {
   "cell_type": "code",
   "execution_count": 17,
   "metadata": {},
   "outputs": [
    {
     "name": "stdout",
     "output_type": "stream",
     "text": [
      "Итоговая sMAPE 11.862462799517512\n"
     ]
    }
   ],
   "source": [
    "dummy_clf = DummyRegressor(strategy=\"median\")\n",
    "dummy_clf.fit(train, rougher)\n",
    "dummy_rougher = dummy_clf.predict(test)\n",
    "dummy_clf.fit(train, final)\n",
    "dummy_final = dummy_clf.predict(test)\n",
    "smape_rouger = smape(dummy_rougher, rougher_test)\n",
    "smap_final = smape(dummy_final, final_test)\n",
    "print('Итоговая sMAPE', smape_all(smape_rouger, smap_final))"
   ]
  },
  {
   "cell_type": "code",
   "execution_count": 18,
   "metadata": {},
   "outputs": [
    {
     "name": "stdout",
     "output_type": "stream",
     "text": [
      "Итоговая sMAPE 11.862462799517512\n"
     ]
    }
   ],
   "source": [
    "count = len(predictions_final)\n",
    "a = np.array([final.median()])\n",
    "median_final = np.repeat(a, count)\n",
    "b = np.array([rougher.median()])\n",
    "median_rougher = np.repeat(b, count)\n",
    "smape_rouger = smape(median_rougher, rougher_test)\n",
    "smap_final = smape(median_final, final_test)\n",
    "print('Итоговая sMAPE', smape_all(smape_rouger, smap_final))"
   ]
  },
  {
   "cell_type": "markdown",
   "metadata": {
    "pycharm": {
     "name": "#%% md\n"
    }
   },
   "source": [
    "<div class=\"alert alert-info\" style=\"color:#000000\">Добавила проверку модели - результат такой же как у лучшей модели.</div>\n",
    "Исследовали модели случайного леса и векторную регрессию SVR. SVR показала результат лучше, но незначительно.\n",
    "<a id='section4'></a>\n",
    "# Вывод\n",
    "В процессе работы мы предобработали данные, посчитали эффективность обогащения - она правильная.\n",
    "\n",
    "Исследовали, как меняется концентрация металлов (Au, Ag, Pb) на различных этапах очистки. Количество золота увеличивается к концу, что соответвует золотодобыче.\n",
    "\n",
    "Посчтитали sMAPE - значение получилось 11 - 14 для разных моделей."
   ]
  }
 ],
 "metadata": {
  "kernelspec": {
   "display_name": "Python 3",
   "language": "python",
   "name": "python3"
  },
  "language_info": {
   "codemirror_mode": {
    "name": "ipython",
    "version": 3
   },
   "file_extension": ".py",
   "mimetype": "text/x-python",
   "name": "python",
   "nbconvert_exporter": "python",
   "pygments_lexer": "ipython3",
   "version": "3.7.8"
  },
  "toc": {
   "base_numbering": 1,
   "nav_menu": {},
   "number_sections": true,
   "sideBar": true,
   "skip_h1_title": true,
   "title_cell": "Table of Contents",
   "title_sidebar": "Contents",
   "toc_cell": false,
   "toc_position": {},
   "toc_section_display": true,
   "toc_window_display": false
  }
 },
 "nbformat": 4,
 "nbformat_minor": 2
}