{
 "cells": [
  {
   "cell_type": "markdown",
   "metadata": {},
   "source": [
    "## Определения региона, где добыча принесёт наибольшую прибыль"
   ]
  },
  {
   "cell_type": "markdown",
   "metadata": {},
   "source": [
    "<a href='#section1'>1. Загрузка и подготовка данных</a>\n",
    "\n",
    "<a href='#section2'>2. Обучение и проверка модели</a>\n",
    "\n",
    "<a href='#section3'>3. Подготовка к расчёту прибыли</a>\n",
    "\n",
    "<a href='#section4'>4. Функция для расчёта прибыли</a>\n",
    "\n",
    "<a href='#section5'>5. Расчёт прибыли и рисков </a>"
   ]
  },
  {
   "cell_type": "markdown",
   "metadata": {},
   "source": [
    "<a id='section1'></a>\n",
    "### 1. Загрузка и подготовка данных"
   ]
  },
  {
   "cell_type": "code",
   "execution_count": 1,
   "metadata": {},
   "outputs": [],
   "source": [
    "import pandas as pd\n",
    "import numpy as np\n",
    "from sklearn.linear_model import LinearRegression\n",
    "from sklearn.model_selection import train_test_split, GridSearchCV\n",
    "from sklearn.metrics import mean_squared_error"
   ]
  },
  {
   "cell_type": "code",
   "execution_count": 2,
   "metadata": {},
   "outputs": [
    {
     "name": "stdout",
     "output_type": "stream",
     "text": [
      "<class 'pandas.core.frame.DataFrame'>\n",
      "RangeIndex: 100000 entries, 0 to 99999\n",
      "Data columns (total 5 columns):\n",
      "id         100000 non-null object\n",
      "f0         100000 non-null float64\n",
      "f1         100000 non-null float64\n",
      "f2         100000 non-null float64\n",
      "product    100000 non-null float64\n",
      "dtypes: float64(4), object(1)\n",
      "memory usage: 3.8+ MB\n",
      "<class 'pandas.core.frame.DataFrame'>\n",
      "RangeIndex: 100000 entries, 0 to 99999\n",
      "Data columns (total 5 columns):\n",
      "id         100000 non-null object\n",
      "f0         100000 non-null float64\n",
      "f1         100000 non-null float64\n",
      "f2         100000 non-null float64\n",
      "product    100000 non-null float64\n",
      "dtypes: float64(4), object(1)\n",
      "memory usage: 3.8+ MB\n",
      "<class 'pandas.core.frame.DataFrame'>\n",
      "RangeIndex: 100000 entries, 0 to 99999\n",
      "Data columns (total 5 columns):\n",
      "id         100000 non-null object\n",
      "f0         100000 non-null float64\n",
      "f1         100000 non-null float64\n",
      "f2         100000 non-null float64\n",
      "product    100000 non-null float64\n",
      "dtypes: float64(4), object(1)\n",
      "memory usage: 3.8+ MB\n"
     ]
    },
    {
     "data": {
      "text/html": [
       "<div>\n",
       "<style scoped>\n",
       "    .dataframe tbody tr th:only-of-type {\n",
       "        vertical-align: middle;\n",
       "    }\n",
       "\n",
       "    .dataframe tbody tr th {\n",
       "        vertical-align: top;\n",
       "    }\n",
       "\n",
       "    .dataframe thead th {\n",
       "        text-align: right;\n",
       "    }\n",
       "</style>\n",
       "<table border=\"1\" class=\"dataframe\">\n",
       "  <thead>\n",
       "    <tr style=\"text-align: right;\">\n",
       "      <th></th>\n",
       "      <th>id</th>\n",
       "      <th>f0</th>\n",
       "      <th>f1</th>\n",
       "      <th>f2</th>\n",
       "      <th>product</th>\n",
       "    </tr>\n",
       "  </thead>\n",
       "  <tbody>\n",
       "    <tr>\n",
       "      <td>0</td>\n",
       "      <td>txEyH</td>\n",
       "      <td>0.705745</td>\n",
       "      <td>-0.497823</td>\n",
       "      <td>1.221170</td>\n",
       "      <td>105.280062</td>\n",
       "    </tr>\n",
       "    <tr>\n",
       "      <td>1</td>\n",
       "      <td>2acmU</td>\n",
       "      <td>1.334711</td>\n",
       "      <td>-0.340164</td>\n",
       "      <td>4.365080</td>\n",
       "      <td>73.037750</td>\n",
       "    </tr>\n",
       "    <tr>\n",
       "      <td>2</td>\n",
       "      <td>409Wp</td>\n",
       "      <td>1.022732</td>\n",
       "      <td>0.151990</td>\n",
       "      <td>1.419926</td>\n",
       "      <td>85.265647</td>\n",
       "    </tr>\n",
       "    <tr>\n",
       "      <td>3</td>\n",
       "      <td>iJLyR</td>\n",
       "      <td>-0.032172</td>\n",
       "      <td>0.139033</td>\n",
       "      <td>2.978566</td>\n",
       "      <td>168.620776</td>\n",
       "    </tr>\n",
       "    <tr>\n",
       "      <td>4</td>\n",
       "      <td>Xdl7t</td>\n",
       "      <td>1.988431</td>\n",
       "      <td>0.155413</td>\n",
       "      <td>4.751769</td>\n",
       "      <td>154.036647</td>\n",
       "    </tr>\n",
       "  </tbody>\n",
       "</table>\n",
       "</div>"
      ],
      "text/plain": [
       "      id        f0        f1        f2     product\n",
       "0  txEyH  0.705745 -0.497823  1.221170  105.280062\n",
       "1  2acmU  1.334711 -0.340164  4.365080   73.037750\n",
       "2  409Wp  1.022732  0.151990  1.419926   85.265647\n",
       "3  iJLyR -0.032172  0.139033  2.978566  168.620776\n",
       "4  Xdl7t  1.988431  0.155413  4.751769  154.036647"
      ]
     },
     "execution_count": 2,
     "metadata": {},
     "output_type": "execute_result"
    }
   ],
   "source": [
    "NAME_1 = 'Первый регион'\n",
    "NAME_2 = 'Второй регион'\n",
    "NAME_3 = 'Третий регион'\n",
    "d1 = pd.read_csv('/datasets/geo_data_0.csv')\n",
    "d2 = pd.read_csv('/datasets/geo_data_1.csv')\n",
    "d3 = pd.read_csv('/datasets/geo_data_2.csv')\n",
    "d1.info()\n",
    "d2.info()\n",
    "d3.info()\n",
    "d1.head()"
   ]
  },
  {
   "cell_type": "markdown",
   "metadata": {},
   "source": [
    "Все файлы содержат по 10 тысяч строк и по пять столбцов. Данные нужного типа, без пропусков, все числовые и примерно одного порядка. "
   ]
  },
  {
   "cell_type": "code",
   "execution_count": 3,
   "metadata": {},
   "outputs": [],
   "source": [
    "def split(df):\n",
    "    features = df.drop(['product', 'id'], axis=1)\n",
    "    target = df['product']\n",
    "    return features, target\n",
    "\n",
    "features1, target1 = split(d1)\n",
    "features2, target2 = split(d2)\n",
    "features3, target3 = split(d3)"
   ]
  },
  {
   "cell_type": "markdown",
   "metadata": {},
   "source": [
    "Разделим выборки на целевой признак и остальные. id удалим, потому что он не нужен в дальнейшем для обучения модели.\n",
    "\n",
    "<a id='section2'></a>\n",
    "### 2. Обучение и проверка модели\n",
    "\n",
    "Разделим данные на обучающую и валидационную выборки в соотношении 75:25.\n",
    "\n",
    "Обучим модель и сделаем предсказания на валидационной выборке."
   ]
  },
  {
   "cell_type": "code",
   "execution_count": 4,
   "metadata": {
    "scrolled": true
   },
   "outputs": [
    {
     "name": "stdout",
     "output_type": "stream",
     "text": [
      "\n",
      "Первый регион\n",
      "Размер обучающей выборки:  75000\n",
      "Размер валидационной выборки:  25000\n",
      "Средний запас предсказанного сырья:  92.59256778438038\n",
      "RMSE модели:  37.5794217150813\n",
      "\n",
      "Второй регион\n",
      "Размер обучающей выборки:  75000\n",
      "Размер валидационной выборки:  25000\n",
      "Средний запас предсказанного сырья:  68.728546895446\n",
      "RMSE модели:  0.893099286775616\n",
      "\n",
      "Третий регион\n",
      "Размер обучающей выборки:  75000\n",
      "Размер валидационной выборки:  25000\n",
      "Средний запас предсказанного сырья:  94.96504596800489\n",
      "RMSE модели:  40.02970873393434\n"
     ]
    }
   ],
   "source": [
    "def learning(features, target, title):\n",
    "    features_train, features_valid, target_train, target_valid = train_test_split(\n",
    "    features, target, test_size=0.25, random_state=12345)\n",
    "    model = LinearRegression()\n",
    "    model.fit(features_train, target_train)\n",
    "    predictions = model.predict(features_valid)\n",
    "    rmse = np.sqrt(mean_squared_error(target_valid, predictions))     \n",
    "    print()\n",
    "    print(title)\n",
    "    print('Размер обучающей выборки: ', features_train.shape[0])\n",
    "    print('Размер валидационной выборки: ', features_valid.shape[0])\n",
    "    print('Средний запас предсказанного сырья: ', np.mean(predictions))\n",
    "    print('RMSE модели: ', rmse)\n",
    "    return features_train, features_valid, target_train, target_valid, predictions\n",
    "    \n",
    "\n",
    "features_train1, features_valid1, target_train1, target_valid1, predictions1 = learning(features1, target1,\n",
    "                                                                                   NAME_1)\n",
    "\n",
    "features_train2, features_valid2, target_train2, target_valid2, predictions2 = learning(features2, target2,\n",
    "                                                                                   NAME_2)\n",
    "\n",
    "features_train3, features_valid3, target_train3, target_valid3, predictions3 = learning(features3, target3,\n",
    "                                                                                   NAME_3)"
   ]
  },
  {
   "cell_type": "markdown",
   "metadata": {},
   "source": [
    "В первом и третьем регионах примерно одинаковые средние запасы сырья и ошибка тоже приблизительно одинаковая. Во втором регионе ошибка модели совсем маленькая, а предсказанные запасы сырья примерно на треть меньше, чем в других регионах. \n",
    "\n",
    "<a id='section3'></a>\n",
    "### 3. Подготовка к расчёту прибыли\n",
    "\n",
    "Рассчитаем объём сырья достаточный для безубыточной разработки новой скважины."
   ]
  },
  {
   "cell_type": "code",
   "execution_count": 5,
   "metadata": {
    "scrolled": true
   },
   "outputs": [
    {
     "name": "stdout",
     "output_type": "stream",
     "text": [
      "Скважина должна приносить не менее  50000000.0  прибыли\n",
      "111 - объём сырья достаточный для безубыточной разработки новой скважины\n",
      "Средние запасы в регионах:\n",
      "Первый 93\n",
      "Второй 69\n",
      "Третий 95\n"
     ]
    }
   ],
   "source": [
    "TOTAL = 10000000000 # бюджет в регионе\n",
    "PRICE = 450000 # прибыль от одной тысячи барелей\n",
    "COUNT_RESEARCH = 500 # скважины для исследования\n",
    "COUNT = 200 # скважины для разработки\n",
    "PROBABILITY = 0.025 # максимальная вероятность убытков\n",
    "QUANTILE = 0.95 # доверительный интервал\n",
    "ZERO_PRICE = TOTAL / COUNT\n",
    "print('Скважина должна приносить не менее ', ZERO_PRICE, ' прибыли')\n",
    "print(round(ZERO_PRICE / PRICE), '- объём сырья достаточный для безубыточной разработки новой скважины')\n",
    "print('Средние запасы в регионах:')\n",
    "print('Первый', round(np.mean(predictions1)))\n",
    "print('Второй', round(np.mean(predictions2)))\n",
    "print('Третий', round(np.mean(predictions3)))"
   ]
  },
  {
   "cell_type": "markdown",
   "metadata": {},
   "source": [
    "Средние запасы в скважинах по первому и третьему региону немного меньше уровня безубыточности, а во втором регионе почти в два раза меньше. \n",
    "\n",
    "<a id='section4'></a>\n",
    "### 4.  Функция для расчёта прибыли\n",
    "\n",
    "Функция для расчёта прибыли по выбранным скважинам и предсказаниям модели"
   ]
  },
  {
   "cell_type": "code",
   "execution_count": 6,
   "metadata": {
    "scrolled": true
   },
   "outputs": [
    {
     "name": "stdout",
     "output_type": "stream",
     "text": [
      "\n",
      "Первый регион\n",
      "Объём сырья 29602\n",
      "Прибыль 3320826043\n",
      "\n",
      "Второй регион\n",
      "Объём сырья 27589\n",
      "Прибыль 2415086697\n",
      "\n",
      "Третий регион\n",
      "Объём сырья 28245\n",
      "Прибыль 2710349964\n"
     ]
    }
   ],
   "source": [
    "def best_total(predictions, target, title):\n",
    "    df = target.to_frame()\n",
    "    df['predict'] = predictions\n",
    "    best = df.sort_values(by=['predict'], ascending = False).head(200)\n",
    "    product = round(best['product'].sum()) # объём сырья\n",
    "    result = round(best['product'].sum() * PRICE - TOTAL) # прибыль\n",
    "    print()\n",
    "    print(title)\n",
    "    print('Объём сырья', product)\n",
    "    print('Прибыль', result)\n",
    "    \n",
    "    return df, product, result\n",
    "\n",
    "res1, product1, result1 = best_total(predictions1, target_valid1, NAME_1)\n",
    "res2, product2, result2 = best_total(predictions2, target_valid2, NAME_2)\n",
    "res3, product3, result3 = best_total(predictions3, target_valid3, NAME_3)"
   ]
  },
  {
   "cell_type": "markdown",
   "metadata": {},
   "source": [
    "Наибольшая прибыль в первом регионе, наименьшая - во втором.\n",
    "<a id='section5'></a>\n",
    "### 5. Расчёт прибыли и рисков для каждого региона\n",
    "\n",
    "Применим технику Bootstrap с 1000 выборок, чтобы найти распределение прибыли.\n",
    "\n",
    "Найдём среднюю прибыль, 95%-й доверительный интервал и риск убытков."
   ]
  },
  {
   "cell_type": "code",
   "execution_count": 7,
   "metadata": {
    "scrolled": true
   },
   "outputs": [
    {
     "name": "stdout",
     "output_type": "stream",
     "text": [
      "\n",
      "Первый регион\n",
      "Средняя прибыль: 396164985\n",
      "95%-ый доверительный интервал: от -111215546 до 909766941\n",
      "Риск убытков 6.9%\n",
      "\n",
      "Второй регион\n",
      "Средняя прибыль: 456045106\n",
      "95%-ый доверительный интервал: от 33820509 до 852289454\n",
      "Риск убытков 1.5%\n",
      "\n",
      "Третий регион\n",
      "Средняя прибыль: 404403867\n",
      "95%-ый доверительный интервал: от -163350413 до 950359574\n",
      "Риск убытков 7.6%\n"
     ]
    }
   ],
   "source": [
    "def best_values(df):\n",
    "    best = df.sort_values(by=['predict'], ascending = False).head(200) \n",
    "    return round(best['product'].sum() * PRICE - TOTAL)\n",
    "\n",
    "    \n",
    "def region(df, title):\n",
    "    state = np.random.RandomState(12345)\n",
    "    values = []\n",
    "    loss = 0\n",
    "    for i in range(1000):\n",
    "        subsample = df.sample(n = 500, replace = True, random_state = state)\n",
    "        mean = best_values(subsample)\n",
    "        if(mean < 0):\n",
    "            loss += 1\n",
    "        values.append(mean)\n",
    "        \n",
    "    values = pd.Series(values)\n",
    "    quantile_from = round(values.quantile(0.025))\n",
    "    quantile_to = round(values.quantile(QUANTILE + 0.025))\n",
    "    print()\n",
    "    print(title)\n",
    "    print(\"Средняя прибыль:\", round(values.mean()))\n",
    "    print(\"95%-ый доверительный интервал: от\", quantile_from, 'до', quantile_to)\n",
    "    print('Риск убытков {:.1%}'.format(loss / 1000))\n",
    "\n",
    "\n",
    "region(res1, NAME_1)   \n",
    "region(res2, NAME_2)  \n",
    "region(res3, NAME_3)  "
   ]
  },
  {
   "cell_type": "markdown",
   "metadata": {
    "pycharm": {
     "name": "#%% md\n"
    }
   },
   "source": [
    "Для разработки скважин подходит только второй регион, т.к. только в этом регионе риск убытков меньше допустимого уровня, хотя запас сырья и прибыль меньше, чем в других."
   ]
  }
 ],
 "metadata": {
  "kernelspec": {
   "display_name": "Python 3",
   "language": "python",
   "name": "python3"
  },
  "language_info": {
   "codemirror_mode": {
    "name": "ipython",
    "version": 3
   },
   "file_extension": ".py",
   "mimetype": "text/x-python",
   "name": "python",
   "nbconvert_exporter": "python",
   "pygments_lexer": "ipython3",
   "version": "3.7.8"
  },
  "toc": {
   "base_numbering": 1,
   "nav_menu": {},
   "number_sections": true,
   "sideBar": true,
   "skip_h1_title": true,
   "title_cell": "Table of Contents",
   "title_sidebar": "Contents",
   "toc_cell": false,
   "toc_position": {},
   "toc_section_display": true,
   "toc_window_display": false
  }
 },
 "nbformat": 4,
 "nbformat_minor": 2
}