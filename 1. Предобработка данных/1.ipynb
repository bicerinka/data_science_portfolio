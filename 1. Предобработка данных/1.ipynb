{
 "cells": [
  {
   "cell_type": "markdown",
   "metadata": {},
   "source": [
    "## Исследование надёжности заёмщиков"
   ]
  },
  {
   "cell_type": "markdown",
   "metadata": {},
   "source": [
    "### Шаг 1. Изучение общей информации о данных"
   ]
  },
  {
   "cell_type": "code",
   "execution_count": 2,
   "metadata": {},
   "outputs": [
    {
     "name": "stdout",
     "output_type": "stream",
     "text": [
      "<class 'pandas.core.frame.DataFrame'>\n",
      "RangeIndex: 21525 entries, 0 to 21524\n",
      "Data columns (total 12 columns):\n",
      "children            21525 non-null int64\n",
      "days_employed       19351 non-null float64\n",
      "dob_years           21525 non-null int64\n",
      "education           21525 non-null object\n",
      "education_id        21525 non-null int64\n",
      "family_status       21525 non-null object\n",
      "family_status_id    21525 non-null int64\n",
      "gender              21525 non-null object\n",
      "income_type         21525 non-null object\n",
      "debt                21525 non-null int64\n",
      "total_income        19351 non-null float64\n",
      "purpose             21525 non-null object\n",
      "dtypes: float64(2), int64(5), object(5)\n",
      "memory usage: 2.0+ MB\n"
     ]
    }
   ],
   "source": [
    "import pandas as pd\n",
    "from pymystem3 import Mystem\n",
    "from collections import Counter\n",
    "df = pd.read_csv('/datasets/data.csv')\n",
    "df.info()"
   ]
  },
  {
   "cell_type": "markdown",
   "metadata": {},
   "source": [
    "### Вывод"
   ]
  },
  {
   "cell_type": "markdown",
   "metadata": {},
   "source": [
    "Файл содержит более 20 тысяч строк.   \n",
    "12 колонок, их названия менять не нужно."
   ]
  },
  {
   "cell_type": "markdown",
   "metadata": {},
   "source": [
    "### Шаг 2. Предобработка данных"
   ]
  },
  {
   "cell_type": "markdown",
   "metadata": {},
   "source": [
    "### Обработка пропусков"
   ]
  },
  {
   "cell_type": "code",
   "execution_count": 3,
   "metadata": {},
   "outputs": [
    {
     "name": "stdout",
     "output_type": "stream",
     "text": [
      "<class 'pandas.core.frame.DataFrame'>\n",
      "RangeIndex: 21525 entries, 0 to 21524\n",
      "Data columns (total 12 columns):\n",
      "children            21525 non-null int64\n",
      "days_employed       21525 non-null float64\n",
      "dob_years           21525 non-null int64\n",
      "education           21525 non-null object\n",
      "education_id        21525 non-null int64\n",
      "family_status       21525 non-null object\n",
      "family_status_id    21525 non-null int64\n",
      "gender              21525 non-null object\n",
      "income_type         21525 non-null object\n",
      "debt                21525 non-null int64\n",
      "total_income        21525 non-null float64\n",
      "purpose             21525 non-null object\n",
      "dtypes: float64(2), int64(5), object(5)\n",
      "memory usage: 2.0+ MB\n"
     ]
    }
   ],
   "source": [
    "# в столбце days_employed очень много отрицательных значений, заменяю их на положительные\n",
    "# причина этого, как мне кажется, в том, что с файлом csv что-то случилось при выгрузке, т.к. там ещё доли дней \n",
    "df['days_employed'] = df['days_employed'].abs()\n",
    "days_employed_median = df['days_employed'].median()\n",
    "df['days_employed'] = df['days_employed'].fillna(days_employed_median)\n",
    "\n",
    "total_income_median = df[df['income_type'] == 'сотрудник']['total_income'].median()\n",
    "df['total_income'] = df['total_income'].fillna(total_income_median)\n",
    "\n",
    "dob_years_mean = df['dob_years'].mean().astype('int')\n",
    "df[df['dob_years'] == 0] = dob_years_mean\n",
    "\n",
    "df['children'] = df['children'].replace(-1, 1)\n",
    "df['children'] = df['children'].replace(20, 2)\n",
    "df.info()"
   ]
  },
  {
   "cell_type": "markdown",
   "metadata": {},
   "source": [
    "### Вывод"
   ]
  },
  {
   "cell_type": "markdown",
   "metadata": {},
   "source": [
    "Пропущенные значения обнаружила в столбцах days_employed и total_income, трудовой стаж и доход.Тут возможно, что у человека нет стажа и дохода или он не захотел это указывать.\n",
    "\n",
    "Пропуски заполняю медианой по всем значения в столбце дней стажа.\n",
    "В столбце доходов пропуски заполню медианой по доходам сотрудников, т.к. доходы от бизнеса, пенсии или стипендии скорее всего бы указали.\n",
    "\n",
    "Встретился также возраст равный 0, заменила его на средний возраст заёмщиков. Может быть забыли заполнить.\n",
    "\n",
    "В столбце с количеством детей встречаются значения -1 и 20, скорее всего это опечатки. Заменила их соответственно на 1 и 2."
   ]
  },
  {
   "cell_type": "markdown",
   "metadata": {},
   "source": [
    "### Замена типа данных"
   ]
  },
  {
   "cell_type": "code",
   "execution_count": 4,
   "metadata": {},
   "outputs": [
    {
     "name": "stdout",
     "output_type": "stream",
     "text": [
      "<class 'pandas.core.frame.DataFrame'>\n",
      "RangeIndex: 21525 entries, 0 to 21524\n",
      "Data columns (total 12 columns):\n",
      "children            21525 non-null int64\n",
      "days_employed       21525 non-null int64\n",
      "dob_years           21525 non-null int64\n",
      "education           21525 non-null object\n",
      "education_id        21525 non-null int64\n",
      "family_status       21525 non-null object\n",
      "family_status_id    21525 non-null int64\n",
      "gender              21525 non-null object\n",
      "income_type         21525 non-null object\n",
      "debt                21525 non-null int64\n",
      "total_income        21525 non-null int64\n",
      "purpose             21525 non-null object\n",
      "dtypes: int64(7), object(5)\n",
      "memory usage: 2.0+ MB\n"
     ]
    }
   ],
   "source": [
    "df['days_employed'] = pd.to_numeric(df['days_employed'], errors='coerce').astype('int')\n",
    "df['total_income'] = pd.to_numeric(df['total_income'], errors='coerce').astype('int')\n",
    "df.info()"
   ]
  },
  {
   "cell_type": "markdown",
   "metadata": {},
   "source": [
    "### Вывод"
   ]
  },
  {
   "cell_type": "markdown",
   "metadata": {},
   "source": [
    "total_income заменяю на целое число, чтобы потом категоризировать по уровню дохода, а также заодно дни трудового стажа, хотя этот столбец не используется дальше.\n",
    "\n",
    "Выбрала метод to_numeric, т.к. это стандартный метод и он позволяет ошибочные значения преобразовать в NaN, а astype нужен для преобразования в целое число."
   ]
  },
  {
   "cell_type": "markdown",
   "metadata": {},
   "source": [
    "### Обработка дубликатов"
   ]
  },
  {
   "cell_type": "code",
   "execution_count": 28,
   "metadata": {},
   "outputs": [
    {
     "name": "stdout",
     "output_type": "stream",
     "text": [
      "Количество дубликатов 154\n",
      "Количество дубликатов после изменения регистра 171\n"
     ]
    }
   ],
   "source": [
    "print('Количество дубликатов', df.duplicated().sum())\n",
    "df['education'] = df['education'].str.lower() # переводим столбец в нижний регистр\n",
    "print('Количество дубликатов после изменения регистра', df.duplicated().sum())\n",
    "df.drop_duplicates(inplace=True)\n",
    "df.reset_index(drop = True)\n",
    "df.dropna(inplace=True) # удаляем пропуски, которые могли появится\n",
    "# одна строка встретилась с неопределённым полом, заменила на женский, потому что две третьих заёмщиков женщины\n",
    "df['gender'] = df['gender'].replace('XNA', 'F')"
   ]
  },
  {
   "cell_type": "markdown",
   "metadata": {},
   "source": [
    "### Вывод"
   ]
  },
  {
   "cell_type": "markdown",
   "metadata": {},
   "source": [
    "Выбрала стандартный метод удаления дубликатов, а также метод для того, чтобы сбросить индексы.\n",
    "\n",
    "Дубликаты появляются, возможно, если скопировали строку случайно несколь раз или заполнили данные одного человека, забыли и заполнили ещё раз.\n",
    "\n",
    "Дубликатов было 154, а после приведения столбца education в нижний регист стало 171. Также к при этом появились пустые значения в строках, где было 43 - число, а не строка. Удалила их.\n",
    "\n",
    "Дубликаты удаляем, чтобы они не меняли выводы, которые мы сделаем в итоге.\n",
    "\n",
    "В данных есть 101 строка, заполненная числами 43. Думаю, что-то случилось с файлом при выгрузке."
   ]
  },
  {
   "cell_type": "markdown",
   "metadata": {},
   "source": [
    "### Лемматизация"
   ]
  },
  {
   "cell_type": "code",
   "execution_count": 29,
   "metadata": {},
   "outputs": [
    {
     "name": "stdout",
     "output_type": "stream",
     "text": [
      "Counter({' ': 59, '\\n': 38, 'покупка': 10, 'недвижимость': 10, 'автомобиль': 9, 'образование': 9, 'жилье': 7, 'с': 5, 'операция': 4, 'на': 4, 'свой': 4, 'свадьба': 3, 'строительство': 3, 'получение': 3, 'высокий': 3, 'дополнительный': 2, 'для': 2, 'коммерческий': 2, 'жилой': 2, 'заниматься': 2, 'сделка': 2, 'приобретение': 1, 'сыграть': 1, 'проведение': 1, 'семья': 1, 'собственный': 1, 'подержать': 1, 'со': 1, 'подержанный': 1, 'профильный': 1, 'сдача': 1, 'ремонт': 1})\n"
     ]
    }
   ],
   "source": [
    "m = Mystem()\n",
    "purposes = df['purpose'].unique()\n",
    "\n",
    "lemmas_purpose = []\n",
    "for row in purposes:\n",
    "    lemmas_purpose += m.lemmatize(row)\n",
    "\n",
    "print(Counter(lemmas_purpose))   \n",
    "    \n",
    "def purpose(str):\n",
    "    lemmas = m.lemmatize(str)\n",
    "    if 'жилье' in lemmas or 'недвижимость' in lemmas:\n",
    "        return 'жилье'\n",
    "    if 'образование' in lemmas:\n",
    "        return 'образование'\n",
    "    if 'свадьба' in lemmas:\n",
    "        return 'свадьба'\n",
    "    if 'автомобиль' in lemmas:\n",
    "        return 'автомобиль'    \n",
    "df['purpose_category'] = df['purpose'].apply(purpose)"
   ]
  },
  {
   "cell_type": "markdown",
   "metadata": {},
   "source": [
    "### Вывод"
   ]
  },
  {
   "cell_type": "markdown",
   "metadata": {},
   "source": [
    "В результате лемматизации мы определили четыре категории для чего человеку деньги: жилье(недвижимость), образование, свадьба, автомобиль.  \n",
    "Создала список со всеми леммами, а затем посчитала их количество с помощью Counter."
   ]
  },
  {
   "cell_type": "markdown",
   "metadata": {},
   "source": [
    "### Категоризация данных"
   ]
  },
  {
   "cell_type": "code",
   "execution_count": 30,
   "metadata": {},
   "outputs": [
    {
     "data": {
      "text/html": [
       "<div>\n",
       "<style scoped>\n",
       "    .dataframe tbody tr th:only-of-type {\n",
       "        vertical-align: middle;\n",
       "    }\n",
       "\n",
       "    .dataframe tbody tr th {\n",
       "        vertical-align: top;\n",
       "    }\n",
       "\n",
       "    .dataframe thead th {\n",
       "        text-align: right;\n",
       "    }\n",
       "</style>\n",
       "<table border=\"1\" class=\"dataframe\">\n",
       "  <thead>\n",
       "    <tr style=\"text-align: right;\">\n",
       "      <th></th>\n",
       "      <th>children</th>\n",
       "      <th>debt</th>\n",
       "      <th>purpose_category</th>\n",
       "      <th>family_category</th>\n",
       "      <th>children_category</th>\n",
       "      <th>total_category</th>\n",
       "    </tr>\n",
       "  </thead>\n",
       "  <tbody>\n",
       "    <tr>\n",
       "      <td>0</td>\n",
       "      <td>1</td>\n",
       "      <td>0</td>\n",
       "      <td>жилье</td>\n",
       "      <td>есть</td>\n",
       "      <td>есть</td>\n",
       "      <td>5</td>\n",
       "    </tr>\n",
       "    <tr>\n",
       "      <td>1</td>\n",
       "      <td>1</td>\n",
       "      <td>0</td>\n",
       "      <td>автомобиль</td>\n",
       "      <td>есть</td>\n",
       "      <td>есть</td>\n",
       "      <td>3</td>\n",
       "    </tr>\n",
       "    <tr>\n",
       "      <td>2</td>\n",
       "      <td>0</td>\n",
       "      <td>0</td>\n",
       "      <td>жилье</td>\n",
       "      <td>есть</td>\n",
       "      <td>нет</td>\n",
       "      <td>3</td>\n",
       "    </tr>\n",
       "    <tr>\n",
       "      <td>3</td>\n",
       "      <td>3</td>\n",
       "      <td>0</td>\n",
       "      <td>образование</td>\n",
       "      <td>есть</td>\n",
       "      <td>много</td>\n",
       "      <td>5</td>\n",
       "    </tr>\n",
       "    <tr>\n",
       "      <td>4</td>\n",
       "      <td>0</td>\n",
       "      <td>0</td>\n",
       "      <td>свадьба</td>\n",
       "      <td>есть</td>\n",
       "      <td>нет</td>\n",
       "      <td>4</td>\n",
       "    </tr>\n",
       "    <tr>\n",
       "      <td>5</td>\n",
       "      <td>0</td>\n",
       "      <td>0</td>\n",
       "      <td>жилье</td>\n",
       "      <td>есть</td>\n",
       "      <td>нет</td>\n",
       "      <td>5</td>\n",
       "    </tr>\n",
       "    <tr>\n",
       "      <td>6</td>\n",
       "      <td>0</td>\n",
       "      <td>0</td>\n",
       "      <td>жилье</td>\n",
       "      <td>есть</td>\n",
       "      <td>нет</td>\n",
       "      <td>4</td>\n",
       "    </tr>\n",
       "    <tr>\n",
       "      <td>7</td>\n",
       "      <td>0</td>\n",
       "      <td>0</td>\n",
       "      <td>образование</td>\n",
       "      <td>есть</td>\n",
       "      <td>нет</td>\n",
       "      <td>3</td>\n",
       "    </tr>\n",
       "    <tr>\n",
       "      <td>8</td>\n",
       "      <td>2</td>\n",
       "      <td>0</td>\n",
       "      <td>свадьба</td>\n",
       "      <td>есть</td>\n",
       "      <td>есть</td>\n",
       "      <td>2</td>\n",
       "    </tr>\n",
       "    <tr>\n",
       "      <td>9</td>\n",
       "      <td>0</td>\n",
       "      <td>0</td>\n",
       "      <td>жилье</td>\n",
       "      <td>есть</td>\n",
       "      <td>нет</td>\n",
       "      <td>3</td>\n",
       "    </tr>\n",
       "    <tr>\n",
       "      <td>10</td>\n",
       "      <td>2</td>\n",
       "      <td>0</td>\n",
       "      <td>жилье</td>\n",
       "      <td>есть</td>\n",
       "      <td>есть</td>\n",
       "      <td>3</td>\n",
       "    </tr>\n",
       "    <tr>\n",
       "      <td>11</td>\n",
       "      <td>0</td>\n",
       "      <td>0</td>\n",
       "      <td>жилье</td>\n",
       "      <td>есть</td>\n",
       "      <td>нет</td>\n",
       "      <td>2</td>\n",
       "    </tr>\n",
       "    <tr>\n",
       "      <td>12</td>\n",
       "      <td>0</td>\n",
       "      <td>0</td>\n",
       "      <td>свадьба</td>\n",
       "      <td>есть</td>\n",
       "      <td>нет</td>\n",
       "      <td>3</td>\n",
       "    </tr>\n",
       "    <tr>\n",
       "      <td>13</td>\n",
       "      <td>0</td>\n",
       "      <td>0</td>\n",
       "      <td>автомобиль</td>\n",
       "      <td>есть</td>\n",
       "      <td>нет</td>\n",
       "      <td>3</td>\n",
       "    </tr>\n",
       "    <tr>\n",
       "      <td>14</td>\n",
       "      <td>0</td>\n",
       "      <td>1</td>\n",
       "      <td>жилье</td>\n",
       "      <td>есть</td>\n",
       "      <td>нет</td>\n",
       "      <td>4</td>\n",
       "    </tr>\n",
       "    <tr>\n",
       "      <td>15</td>\n",
       "      <td>1</td>\n",
       "      <td>0</td>\n",
       "      <td>жилье</td>\n",
       "      <td>есть</td>\n",
       "      <td>есть</td>\n",
       "      <td>3</td>\n",
       "    </tr>\n",
       "    <tr>\n",
       "      <td>16</td>\n",
       "      <td>0</td>\n",
       "      <td>0</td>\n",
       "      <td>жилье</td>\n",
       "      <td>есть</td>\n",
       "      <td>нет</td>\n",
       "      <td>5</td>\n",
       "    </tr>\n",
       "    <tr>\n",
       "      <td>17</td>\n",
       "      <td>0</td>\n",
       "      <td>0</td>\n",
       "      <td>жилье</td>\n",
       "      <td>есть</td>\n",
       "      <td>нет</td>\n",
       "      <td>2</td>\n",
       "    </tr>\n",
       "    <tr>\n",
       "      <td>18</td>\n",
       "      <td>0</td>\n",
       "      <td>0</td>\n",
       "      <td>автомобиль</td>\n",
       "      <td>нет</td>\n",
       "      <td>нет</td>\n",
       "      <td>1</td>\n",
       "    </tr>\n",
       "    <tr>\n",
       "      <td>19</td>\n",
       "      <td>0</td>\n",
       "      <td>0</td>\n",
       "      <td>автомобиль</td>\n",
       "      <td>нет</td>\n",
       "      <td>нет</td>\n",
       "      <td>4</td>\n",
       "    </tr>\n",
       "  </tbody>\n",
       "</table>\n",
       "</div>"
      ],
      "text/plain": [
       "    children  debt purpose_category family_category children_category  \\\n",
       "0          1     0            жилье            есть              есть   \n",
       "1          1     0       автомобиль            есть              есть   \n",
       "2          0     0            жилье            есть               нет   \n",
       "3          3     0      образование            есть             много   \n",
       "4          0     0          свадьба            есть               нет   \n",
       "5          0     0            жилье            есть               нет   \n",
       "6          0     0            жилье            есть               нет   \n",
       "7          0     0      образование            есть               нет   \n",
       "8          2     0          свадьба            есть              есть   \n",
       "9          0     0            жилье            есть               нет   \n",
       "10         2     0            жилье            есть              есть   \n",
       "11         0     0            жилье            есть               нет   \n",
       "12         0     0          свадьба            есть               нет   \n",
       "13         0     0       автомобиль            есть               нет   \n",
       "14         0     1            жилье            есть               нет   \n",
       "15         1     0            жилье            есть              есть   \n",
       "16         0     0            жилье            есть               нет   \n",
       "17         0     0            жилье            есть               нет   \n",
       "18         0     0       автомобиль             нет               нет   \n",
       "19         0     0       автомобиль             нет               нет   \n",
       "\n",
       "    total_category  \n",
       "0                5  \n",
       "1                3  \n",
       "2                3  \n",
       "3                5  \n",
       "4                4  \n",
       "5                5  \n",
       "6                4  \n",
       "7                3  \n",
       "8                2  \n",
       "9                3  \n",
       "10               3  \n",
       "11               2  \n",
       "12               3  \n",
       "13               3  \n",
       "14               4  \n",
       "15               3  \n",
       "16               5  \n",
       "17               2  \n",
       "18               1  \n",
       "19               4  "
      ]
     },
     "execution_count": 30,
     "metadata": {},
     "output_type": "execute_result"
    }
   ],
   "source": [
    "def family(value):\n",
    "    if value in ['Не женат / не замужем', 'в разводе', 'вдовец / вдова']:\n",
    "        return 'нет'\n",
    "    if value in ['женат / замужем', 'гражданский брак']:\n",
    "        return 'есть'\n",
    "\n",
    "\n",
    "def children(value):\n",
    "    if value == 0:\n",
    "        return 'нет'\n",
    "    if value in [1, 2]:\n",
    "        return 'есть'\n",
    "    if value >= 3:\n",
    "        return 'много'   \n",
    "\n",
    "def total(value):\n",
    "    if value < 60000:\n",
    "        return 1\n",
    "    if value >= 60000 and value < 100000:\n",
    "        return 2\n",
    "    if value >= 100000 and value < 150000:\n",
    "        return 3 \n",
    "    if value >= 150000 and value < 250000:\n",
    "        return 4     \n",
    "    if value >= 250000:\n",
    "        return 5\n",
    "    \n",
    "    \n",
    "df['family_category'] = df['family_status'].apply(family)    \n",
    "df['children_category'] = df['children'].apply(children) \n",
    "\n",
    "df['total_category'] = df['total_income'].apply(total) \n",
    "\n",
    "df = df[['children', 'debt', 'purpose_category', 'family_category', 'children_category', 'total_category']]\n",
    "df.head(20)"
   ]
  },
  {
   "cell_type": "markdown",
   "metadata": {},
   "source": [
    "### Вывод"
   ]
  },
  {
   "cell_type": "markdown",
   "metadata": {},
   "source": [
    "Создала столбцы с категориями: семейное положение распределила на 2 части - есть семья или нет.\n",
    "children_category разделила на 3 части: нет детей, есть и многодетная семья.\n",
    "В уровне дохода выделила 5 категорий по своему усмотрению."
   ]
  },
  {
   "cell_type": "markdown",
   "metadata": {},
   "source": [
    "### Шаг 3. Ответьте на вопросы"
   ]
  },
  {
   "cell_type": "markdown",
   "metadata": {},
   "source": [
    "- Есть ли зависимость между наличием детей и возвратом кредита в срок?"
   ]
  },
  {
   "cell_type": "code",
   "execution_count": 31,
   "metadata": {},
   "outputs": [
    {
     "name": "stdout",
     "output_type": "stream",
     "text": [
      "Средняя просрочка по кредитам: 8.1%\n",
      "Наличие детей:\n",
      "Есть 9.2%\n",
      "Нет 7.5%\n",
      "-----------------\n",
      "children_category\n",
      "есть     9.3%\n",
      "много    8.2%\n",
      "нет      7.5%\n",
      "Name: debt, dtype: object\n"
     ]
    }
   ],
   "source": [
    "debt_mean = df['debt'].mean() # средняя значение по всей таблице, была ли задолженность в прошлом\n",
    "print('Средняя просрочка по кредитам: {:.1%}'.format(debt_mean))\n",
    "print('Наличие детей:')\n",
    "print('Есть {:.1%}'.format(df[df['children'] > 0]['debt'].mean()))\n",
    "print('Нет {:.1%}'.format(df[df['children'] == 0]['debt'].mean()))\n",
    "print('-----------------')\n",
    "print(df.groupby('children_category')['debt'].mean().map('{:.1%}'.format))"
   ]
  },
  {
   "cell_type": "markdown",
   "metadata": {},
   "source": [
    "### Вывод"
   ]
  },
  {
   "cell_type": "markdown",
   "metadata": {},
   "source": [
    "**Здесь получилось два вида.**\n",
    "Люди с детьми имеют значительно больше просрочек в прошлом.\n",
    "**Второй вывод:** самая большая задолженность у тех, кто имеет 1-2 ребёнка, а у многодетных среднее значение.\n",
    "Думаю, это люди с высоким доходом, льготами от государства или более внимательно относятся к деньгам."
   ]
  },
  {
   "cell_type": "markdown",
   "metadata": {},
   "source": [
    "- Есть ли зависимость между семейным положением и возвратом кредита в срок?"
   ]
  },
  {
   "cell_type": "code",
   "execution_count": 32,
   "metadata": {},
   "outputs": [
    {
     "name": "stdout",
     "output_type": "stream",
     "text": [
      "Средняя просрочка по кредитам: 8.1%\n",
      "Семейное положение:\n",
      "Есть 8.0%\n",
      "Нет 8.5%\n"
     ]
    }
   ],
   "source": [
    "print('Средняя просрочка по кредитам: {:.1%}'.format(debt_mean))\n",
    "print('Семейное положение:')\n",
    "print('Есть {:.1%}'.format(df[df['family_category'] == 'есть']['debt'].mean()))\n",
    "print('Нет {:.1%}'.format(df[df['family_category'] == 'нет']['debt'].mean()))"
   ]
  },
  {
   "cell_type": "markdown",
   "metadata": {},
   "source": [
    "### Вывод"
   ]
  },
  {
   "cell_type": "markdown",
   "metadata": {},
   "source": [
    "Те, у кого есть семья возвращают кредиты с меньшим количеством задолженностей, но разница незначительная."
   ]
  },
  {
   "cell_type": "markdown",
   "metadata": {},
   "source": [
    "- Есть ли зависимость между уровнем дохода и возвратом кредита в срок?"
   ]
  },
  {
   "cell_type": "code",
   "execution_count": 33,
   "metadata": {},
   "outputs": [
    {
     "name": "stdout",
     "output_type": "stream",
     "text": [
      "Средняя просрочка по кредитам: 8.1%\n",
      "total_category\n",
      "1    6.1%\n",
      "2    8.4%\n",
      "3    8.5%\n",
      "4    8.3%\n",
      "5    6.9%\n",
      "Name: debt, dtype: object\n"
     ]
    }
   ],
   "source": [
    "print('Средняя просрочка по кредитам: {:.1%}'.format(debt_mean))\n",
    "print(df.groupby('total_category')['debt'].mean().map('{:.1%}'.format))"
   ]
  },
  {
   "cell_type": "markdown",
   "metadata": {},
   "source": [
    "### Вывод"
   ]
  },
  {
   "cell_type": "markdown",
   "metadata": {},
   "source": [
    "Люди со средним доходом имеют значительно больше задолженностей, чем остальные. Мне кажется, эти люди не слишком экономят, но и не настолько много зарабатывают, чтобы было денег с запасом.\n",
    "\n",
    "Люди с низким доходом, скорее всего экономят и точно рассчитывают деньги.\n",
    "\n",
    "Люди с высоки доходом много зарабатывают и имеют меньше проблем с кредитами."
   ]
  },
  {
   "cell_type": "markdown",
   "metadata": {},
   "source": [
    "- Как разные цели кредита влияют на его возврат в срок?"
   ]
  },
  {
   "cell_type": "code",
   "execution_count": 34,
   "metadata": {},
   "outputs": [
    {
     "name": "stdout",
     "output_type": "stream",
     "text": [
      "Средняя просрочка по кредитам: 8.1%\n",
      "purpose_category\n",
      "автомобиль     9.3%\n",
      "жилье          7.2%\n",
      "образование    9.3%\n",
      "свадьба        8.0%\n",
      "Name: debt, dtype: object\n"
     ]
    }
   ],
   "source": [
    "print('Средняя просрочка по кредитам: {:.1%}'.format(debt_mean))\n",
    "print(df.groupby('purpose_category')['debt'].mean().map('{:.1%}'.format))"
   ]
  },
  {
   "cell_type": "markdown",
   "metadata": {},
   "source": [
    "### Вывод"
   ]
  },
  {
   "cell_type": "markdown",
   "metadata": {},
   "source": [
    "Меньше всего просрочек в прошлом у тех, кто покупает жильё. Думаю, люди серьёзно относятся к этому.\n",
    "\n",
    "Больше всего просрочек у тех, кто берёт в кредит автомобиль или получает образование. Наверное, потому, что автомобиль можно разбить, а образование неизвестно окупится или нет и занимает время, вместо заработка.\n",
    "\n",
    "Кредит на свадьбу может быть не слишком большой, здесь задолженность в прошлом чуть меньше среднего."
   ]
  },
  {
   "cell_type": "markdown",
   "metadata": {},
   "source": [
    "### Шаг 4. Общий вывод"
   ]
  },
  {
   "cell_type": "markdown",
   "metadata": {
    "pycharm": {
     "name": "#%% md\n"
    }
   },
   "source": [
    "- Наличие детей влияет на возврат в срок.\n",
    "\n",
    "- Семейное положение влияет незначительно на возврат кредита в срок.\n",
    "\n",
    "- Уровень дохода влияет на возврат кредита в срок если он отличается от среднего.\n",
    "\n",
    "- Цель также влияет на возврат кредита.\n",
    "\n",
    "Этот вывод сделала на основе данных из файла. Получается, что тут указано, были ли задолженности в прошлом. Цели кредита были другие скорее всего, могли измениться уровень дохода, семейное положение и наличие детей."
   ]
  }
 ],
 "metadata": {
  "kernelspec": {
   "display_name": "Python 3",
   "language": "python",
   "name": "python3"
  },
  "language_info": {
   "codemirror_mode": {
    "name": "ipython",
    "version": 3
   },
   "file_extension": ".py",
   "mimetype": "text/x-python",
   "name": "python",
   "nbconvert_exporter": "python",
   "pygments_lexer": "ipython3",
   "version": "3.7.8"
  },
  "toc": {
   "base_numbering": 1,
   "nav_menu": {},
   "number_sections": true,
   "sideBar": true,
   "skip_h1_title": true,
   "title_cell": "Table of Contents",
   "title_sidebar": "Contents",
   "toc_cell": false,
   "toc_position": {},
   "toc_section_display": true,
   "toc_window_display": false
  }
 },
 "nbformat": 4,
 "nbformat_minor": 2
}