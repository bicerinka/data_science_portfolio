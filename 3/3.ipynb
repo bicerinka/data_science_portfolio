{
 "cells": [
  {
   "cell_type": "markdown",
   "metadata": {},
   "source": [
    "## Определение перспективного тарифа для телеком компании\n",
    "<a href='#section1'>1. Изучение общей информации, приведение данных к нужным типам, исправление ошибок</a>\n",
    "\n",
    "<a href='#section2'>2. Подготовка таблиц для расчётов</a>\n",
    "\n",
    "<a href='#section3'>3. Расчёты по месяцам для каждого пользователя</a>\n",
    "\n",
    "<a href='#section4'>4. Анализ данных</a>\n",
    "\n",
    "<a href='#section5'>5. Гистограммы</a>\n",
    "\n",
    "<a href='#section6'>6. Проверка гипотез</a>\n",
    "\n",
    "<a href='#section7'>7. Общий вывод</a>\n",
    "\n",
    "<a id='section1'></a>\n",
    "### 1. Изучение общей информации, приведение данных к нужным типам, исправление ошибок"
   ]
  },
  {
   "cell_type": "code",
   "execution_count": 1,
   "metadata": {},
   "outputs": [
    {
     "name": "stdout",
     "output_type": "stream",
     "text": [
      "<class 'pandas.core.frame.DataFrame'>\n",
      "RangeIndex: 202607 entries, 0 to 202606\n",
      "Data columns (total 4 columns):\n",
      "id           202607 non-null object\n",
      "call_date    202607 non-null object\n",
      "duration     202607 non-null float64\n",
      "user_id      202607 non-null int64\n",
      "dtypes: float64(1), int64(1), object(2)\n",
      "memory usage: 6.2+ MB\n",
      "\n",
      "<class 'pandas.core.frame.DataFrame'>\n",
      "RangeIndex: 202607 entries, 0 to 202606\n",
      "Data columns (total 4 columns):\n",
      "id           202607 non-null object\n",
      "call_date    202607 non-null datetime64[ns]\n",
      "duration     202607 non-null int64\n",
      "user_id      202607 non-null int64\n",
      "dtypes: datetime64[ns](1), int64(2), object(1)\n",
      "memory usage: 6.2+ MB\n"
     ]
    }
   ],
   "source": [
    "import pandas as pd\n",
    "import numpy as np\n",
    "import matplotlib.pyplot as plt\n",
    "from scipy import stats as st\n",
    "df_calls = pd.read_csv('/datasets/calls.csv')\n",
    "df_calls.info()\n",
    "df_calls['call_date'] = pd.to_datetime(df_calls['call_date'], format='%Y-%m-%d')\n",
    "df_calls['duration'] = df_calls['duration'].apply(np.ceil).astype('int')\n",
    "print()\n",
    "df_calls.info()"
   ]
  },
  {
   "cell_type": "markdown",
   "metadata": {},
   "source": [
    "Пропущенных данных в звонках нет, дату перевела в тип datetime, длительность звонка округлила до минут в большую сторону и перевела в int. В таблице есть звонки с длительностью 0.0, скорее всего это пропущенные звонки или когда у абонента выключен телефон. Их обработка влияет только на количество сделанных звонков, а на дальнейшие расчёты и выгодность тарифов не влияет. Поэтому я не стала удалять эти строки."
   ]
  },
  {
   "cell_type": "code",
   "execution_count": 2,
   "metadata": {},
   "outputs": [
    {
     "name": "stdout",
     "output_type": "stream",
     "text": [
      "<class 'pandas.core.frame.DataFrame'>\n",
      "RangeIndex: 123036 entries, 0 to 123035\n",
      "Data columns (total 3 columns):\n",
      "id              123036 non-null object\n",
      "message_date    123036 non-null object\n",
      "user_id         123036 non-null int64\n",
      "dtypes: int64(1), object(2)\n",
      "memory usage: 2.8+ MB\n",
      "\n",
      "<class 'pandas.core.frame.DataFrame'>\n",
      "RangeIndex: 123036 entries, 0 to 123035\n",
      "Data columns (total 3 columns):\n",
      "id              123036 non-null object\n",
      "message_date    123036 non-null datetime64[ns]\n",
      "user_id         123036 non-null int64\n",
      "dtypes: datetime64[ns](1), int64(1), object(1)\n",
      "memory usage: 2.8+ MB\n"
     ]
    }
   ],
   "source": [
    "df_messages = pd.read_csv('/datasets/messages.csv')\n",
    "df_messages.info()\n",
    "print()\n",
    "df_messages['message_date'] = pd.to_datetime(df_messages['message_date'], format='%Y-%m-%d')\n",
    "df_messages.info()"
   ]
  },
  {
   "cell_type": "markdown",
   "metadata": {},
   "source": [
    "Пропущенных данных в сообщениях нет, дату перевела в тип datetime."
   ]
  },
  {
   "cell_type": "code",
   "execution_count": 3,
   "metadata": {},
   "outputs": [
    {
     "name": "stdout",
     "output_type": "stream",
     "text": [
      "<class 'pandas.core.frame.DataFrame'>\n",
      "RangeIndex: 149396 entries, 0 to 149395\n",
      "Data columns (total 5 columns):\n",
      "Unnamed: 0      149396 non-null int64\n",
      "id              149396 non-null object\n",
      "mb_used         149396 non-null float64\n",
      "session_date    149396 non-null object\n",
      "user_id         149396 non-null int64\n",
      "dtypes: float64(1), int64(2), object(2)\n",
      "memory usage: 5.7+ MB\n",
      "\n",
      "<class 'pandas.core.frame.DataFrame'>\n",
      "Int64Index: 129798 entries, 0 to 149395\n",
      "Data columns (total 5 columns):\n",
      "id              129798 non-null int64\n",
      "session_id      129798 non-null object\n",
      "mb_used         129798 non-null int64\n",
      "session_date    129798 non-null datetime64[ns]\n",
      "user_id         129798 non-null int64\n",
      "dtypes: datetime64[ns](1), int64(3), object(1)\n",
      "memory usage: 5.9+ MB\n"
     ]
    }
   ],
   "source": [
    "df_internet = pd.read_csv('/datasets/internet.csv')\n",
    "df_internet.info()\n",
    "print()\n",
    "df_internet.columns = ['id', 'session_id', 'mb_used', 'session_date', 'user_id']\n",
    "df_internet['session_date'] = pd.to_datetime(df_internet['session_date'], format='%Y-%m-%d')\n",
    "df_internet = df_internet.loc[df_internet.loc[:, 'mb_used'] != 0.00]\n",
    "df_internet['mb_used'] = df_internet['mb_used'].apply(np.ceil).astype('int')\n",
    "df_internet.info()"
   ]
  },
  {
   "cell_type": "markdown",
   "metadata": {},
   "source": [
    "Пропущенных данных в таблице использования интернета нет, дату перевела в тип datetime, мегабайты округлила до целого в большую сторону и перевела в int. Переименовала пустую колонку в id, а id в session_id. Удалила строки, где потраченные мегабайты равны 0, видимо, человек подключился к интернету, но ничего не потратил."
   ]
  },
  {
   "cell_type": "code",
   "execution_count": 4,
   "metadata": {},
   "outputs": [
    {
     "name": "stdout",
     "output_type": "stream",
     "text": [
      "<class 'pandas.core.frame.DataFrame'>\n",
      "RangeIndex: 2 entries, 0 to 1\n",
      "Data columns (total 8 columns):\n",
      "messages_included        2 non-null int64\n",
      "mb_per_month_included    2 non-null int64\n",
      "minutes_included         2 non-null int64\n",
      "rub_monthly_fee          2 non-null int64\n",
      "rub_per_gb               2 non-null int64\n",
      "rub_per_message          2 non-null int64\n",
      "rub_per_minute           2 non-null int64\n",
      "tariff_name              2 non-null object\n",
      "dtypes: int64(7), object(1)\n",
      "memory usage: 256.0+ bytes\n"
     ]
    },
    {
     "data": {
      "text/html": [
       "<div>\n",
       "<style scoped>\n",
       "    .dataframe tbody tr th:only-of-type {\n",
       "        vertical-align: middle;\n",
       "    }\n",
       "\n",
       "    .dataframe tbody tr th {\n",
       "        vertical-align: top;\n",
       "    }\n",
       "\n",
       "    .dataframe thead th {\n",
       "        text-align: right;\n",
       "    }\n",
       "</style>\n",
       "<table border=\"1\" class=\"dataframe\">\n",
       "  <thead>\n",
       "    <tr style=\"text-align: right;\">\n",
       "      <th></th>\n",
       "      <th>messages_included</th>\n",
       "      <th>mb_per_month_included</th>\n",
       "      <th>minutes_included</th>\n",
       "      <th>rub_monthly_fee</th>\n",
       "      <th>rub_per_gb</th>\n",
       "      <th>rub_per_message</th>\n",
       "      <th>rub_per_minute</th>\n",
       "      <th>tariff_name</th>\n",
       "    </tr>\n",
       "  </thead>\n",
       "  <tbody>\n",
       "    <tr>\n",
       "      <td>0</td>\n",
       "      <td>50</td>\n",
       "      <td>15360</td>\n",
       "      <td>500</td>\n",
       "      <td>550</td>\n",
       "      <td>200</td>\n",
       "      <td>3</td>\n",
       "      <td>3</td>\n",
       "      <td>smart</td>\n",
       "    </tr>\n",
       "    <tr>\n",
       "      <td>1</td>\n",
       "      <td>1000</td>\n",
       "      <td>30720</td>\n",
       "      <td>3000</td>\n",
       "      <td>1950</td>\n",
       "      <td>150</td>\n",
       "      <td>1</td>\n",
       "      <td>1</td>\n",
       "      <td>ultra</td>\n",
       "    </tr>\n",
       "  </tbody>\n",
       "</table>\n",
       "</div>"
      ],
      "text/plain": [
       "   messages_included  mb_per_month_included  minutes_included  \\\n",
       "0                 50                  15360               500   \n",
       "1               1000                  30720              3000   \n",
       "\n",
       "   rub_monthly_fee  rub_per_gb  rub_per_message  rub_per_minute tariff_name  \n",
       "0              550         200                3               3       smart  \n",
       "1             1950         150                1               1       ultra  "
      ]
     },
     "execution_count": 4,
     "metadata": {},
     "output_type": "execute_result"
    }
   ],
   "source": [
    "df_tariffs = pd.read_csv('/datasets/tariffs.csv')\n",
    "df_tariffs.info()\n",
    "df_tariffs.head()"
   ]
  },
  {
   "cell_type": "markdown",
   "metadata": {},
   "source": [
    "В тарифах все данные верные. "
   ]
  },
  {
   "cell_type": "code",
   "execution_count": 5,
   "metadata": {},
   "outputs": [
    {
     "name": "stdout",
     "output_type": "stream",
     "text": [
      "<class 'pandas.core.frame.DataFrame'>\n",
      "RangeIndex: 500 entries, 0 to 499\n",
      "Data columns (total 8 columns):\n",
      "user_id       500 non-null int64\n",
      "age           500 non-null int64\n",
      "churn_date    38 non-null object\n",
      "city          500 non-null object\n",
      "first_name    500 non-null object\n",
      "last_name     500 non-null object\n",
      "reg_date      500 non-null object\n",
      "tariff        500 non-null object\n",
      "dtypes: int64(2), object(6)\n",
      "memory usage: 31.4+ KB\n",
      "\n",
      "<class 'pandas.core.frame.DataFrame'>\n",
      "RangeIndex: 500 entries, 0 to 499\n",
      "Data columns (total 8 columns):\n",
      "user_id       500 non-null int64\n",
      "age           500 non-null int64\n",
      "churn_date    38 non-null datetime64[ns]\n",
      "city          500 non-null object\n",
      "first_name    500 non-null object\n",
      "last_name     500 non-null object\n",
      "reg_date      500 non-null datetime64[ns]\n",
      "tariff        500 non-null object\n",
      "dtypes: datetime64[ns](2), int64(2), object(4)\n",
      "memory usage: 31.4+ KB\n"
     ]
    }
   ],
   "source": [
    "df_users = pd.read_csv('/datasets/users.csv')\n",
    "df_users.info()\n",
    "print()\n",
    "df_users['reg_date'] = pd.to_datetime(df_users['reg_date'], format='%Y-%m-%d')\n",
    "df_users['churn_date'] = pd.to_datetime(df_users['churn_date'], format='%Y-%m-%d')\n",
    "df_users.info()"
   ]
  },
  {
   "cell_type": "markdown",
   "metadata": {},
   "source": [
    "В таблице пользователей даты привела к типу datetime64. Пропущенные значения в колонке churn_date не заполняла.\n",
    "\n",
    "<a id='section2'></a>\n",
    "### 2. Подготовка таблиц для расчётов"
   ]
  },
  {
   "cell_type": "code",
   "execution_count": 6,
   "metadata": {},
   "outputs": [],
   "source": [
    "df_calls['month'] = df_calls['call_date'].dt.month\n",
    "calls = df_calls.pivot_table(index = 'user_id',\n",
    "                         columns='month',\n",
    "                         values='duration',\n",
    "                         aggfunc = ['sum', 'count'],\n",
    "                         fill_value=0)\n",
    "calls.columns =[s1 + str(s2) for (s1,s2) in calls.columns.tolist()]\n",
    "calls.reset_index(inplace=True)\n",
    "calls.reset_index(inplace=True)\n",
    "\n",
    "df_messages['month'] = df_messages['message_date'].dt.month\n",
    "messages = df_messages.pivot_table(index = 'user_id',\n",
    "                         columns='month',                         \n",
    "                         values='message_date',\n",
    "                         aggfunc = 'count',\n",
    "                         fill_value=0)\n",
    "messages.columns =['count' + str(s) for s in messages.columns.tolist()]\n",
    "messages.reset_index(inplace=True)\n",
    "\n",
    "df_internet['month'] = df_internet['session_date'].dt.month\n",
    "internet = df_internet.pivot_table(index = 'user_id',\n",
    "                         columns='month',                         \n",
    "                         values='mb_used',\n",
    "                         aggfunc = 'sum',\n",
    "                         fill_value=0)\n",
    "internet.columns =['sum' + str(s) for s in internet.columns.tolist()]\n",
    "internet.reset_index(inplace=True)"
   ]
  },
  {
   "cell_type": "markdown",
   "metadata": {},
   "source": [
    "Сводные таблицы для расчётов количества сделанных звонков, израсходованных минут разговора, мегабайт интернета и отправленных сообщений. В таблицы звонков, сообщений и мегабайт добавила колонки с номером месяца для того, чтобы применить к ним функцию pivot_table. Отсутствующие значения заменила на 0. Колонкам дала названия sum и count с номером месяца.\n",
    "\n",
    "<a id='section3'></a>\n",
    "### 3. Расчёты по месяцам для каждого пользователя"
   ]
  },
  {
   "cell_type": "code",
   "execution_count": 7,
   "metadata": {},
   "outputs": [
    {
     "name": "stdout",
     "output_type": "stream",
     "text": [
      "<class 'pandas.core.frame.DataFrame'>\n",
      "RangeIndex: 3216 entries, 0 to 3215\n",
      "Data columns (total 9 columns):\n",
      "user_id     3216 non-null int64\n",
      "month       3216 non-null int64\n",
      "calls       3216 non-null int64\n",
      "minutes     3216 non-null int64\n",
      "messages    3216 non-null int64\n",
      "internet    3216 non-null int64\n",
      "total       3216 non-null float64\n",
      "tariff      3216 non-null object\n",
      "city        3216 non-null object\n",
      "dtypes: float64(1), int64(6), object(2)\n",
      "memory usage: 226.2+ KB\n"
     ]
    }
   ],
   "source": [
    "arr = []\n",
    "for el in df_users['user_id']:\n",
    "    # строка с данными пользователя\n",
    "    user = df_users.loc[df_users['user_id'] == el] \n",
    "    # месяцы использования тарифа\n",
    "    start = user['reg_date'].dt.month.values[0]\n",
    "    end = user['churn_date'].dt.month.values[0]\n",
    "    end = 12 if np.isnan(end) else end  \n",
    "    city = user['city'].values[0]\n",
    "    # данные по тарифу пользователя\n",
    "    tariff = user['tariff'].values[0] \n",
    "    tariff = df_tariffs.query('tariff_name == @tariff')\n",
    "    tariff_name = tariff['tariff_name'].values[0]\n",
    "    total = tariff['rub_monthly_fee'].values[0]\n",
    "    tariff_minutes = tariff['minutes_included'].values[0]\n",
    "    tariff_messages = tariff['messages_included'].values[0]\n",
    "    tariff_mb = tariff['mb_per_month_included'].values[0]\n",
    "    price_minute = tariff['rub_per_minute'].values[0]\n",
    "    price_message = tariff['rub_per_message'].values[0]\n",
    "    price_gb = tariff['rub_per_gb'].values[0]\n",
    "    # строки из сводных таблиц для этого пользователя\n",
    "    c = calls.loc[calls['user_id'] == el]\n",
    "    m = messages.loc[messages['user_id'] == el]\n",
    "    n = internet.loc[internet['user_id'] == el]\n",
    "    l = len(c.index)\n",
    "    for j in range(1, 13):\n",
    "        if start <= j <= end:\n",
    "            s = str(j)          \n",
    "            calls_sum = 0 if (l == 0) else c['sum' + s].values[0]   \n",
    "            calls_count = 0 if (l == 0) else c['count' + s].values[0]\n",
    "            messages_count = 0 if (len(m.index) == 0) else m['count' + s].values[0]    \n",
    "            internet_sum = 0 if (len(n.index) == 0) else n['sum' + s].values[0]  \n",
    "        \n",
    "            if calls_sum > tariff_minutes:\n",
    "                total += (calls_sum - tariff_minutes) * price_minute\n",
    "            \n",
    "            if messages_count > tariff_messages:\n",
    "                total += (messages_count - tariff_messages) * price_message\n",
    "            \n",
    "            if internet_sum > tariff_mb:\n",
    "                total += np.ceil((internet_sum - tariff_mb) / 1024) * price_gb\n",
    "\n",
    "            arr.append([el, j, calls_count, calls_sum, messages_count, internet_sum, total, tariff_name, city])\n",
    "\n",
    "df = pd.DataFrame(arr, columns = ['user_id','month','calls','minutes','messages','internet','total','tariff','city'])\n",
    "\n",
    "df.info()"
   ]
  },
  {
   "cell_type": "code",
   "execution_count": 8,
   "metadata": {},
   "outputs": [
    {
     "name": "stderr",
     "output_type": "stream",
     "text": [
      "/opt/conda/lib/python3.7/site-packages/pandas/core/generic.py:3946: PerformanceWarning: dropping on a non-lexsorted multi-index without a level parameter may impact performance.\n",
      "  new_axis = axis.drop(labels, errors=errors)\n"
     ]
    },
    {
     "name": "stdout",
     "output_type": "stream",
     "text": [
      "<class 'pandas.core.frame.DataFrame'>\n",
      "RangeIndex: 2665 entries, 0 to 2664\n",
      "Data columns (total 7 columns):\n",
      "user_id     2665 non-null int64\n",
      "month       2665 non-null int64\n",
      "minutes     2665 non-null int64\n",
      "calls       2665 non-null int64\n",
      "messages    2665 non-null int64\n",
      "internet    2665 non-null int64\n",
      "total       2665 non-null float64\n",
      "dtypes: float64(1), int64(6)\n",
      "memory usage: 145.9 KB\n"
     ]
    }
   ],
   "source": [
    "c = df_calls.pivot_table(index = ['user_id', 'month'],\n",
    "                       values='duration',\n",
    "                       aggfunc = ['sum', 'count'],\n",
    "                       fill_value=0).reset_index()\n",
    "    \n",
    "m = df_messages.pivot_table(index = ['user_id', 'month'],\n",
    "                       values='message_date',\n",
    "                       aggfunc = ['count'],\n",
    "                       fill_value=0).reset_index()\n",
    "    \n",
    "i = df_internet.pivot_table(index = ['user_id', 'month'],\n",
    "                       values='mb_used',\n",
    "                       aggfunc = ['sum'],\n",
    "                       fill_value=0).reset_index()\n",
    "\n",
    "\n",
    "new_df = c.merge(m, on = ['user_id', 'month']).reset_index()\n",
    "\n",
    "new_df = new_df.merge(i, on = ['user_id', 'month']).reset_index()\n",
    "new_df.columns =['index1', 'index2', 'user_id','month','minutes','calls','messages','internet']\n",
    "del new_df['index1']\n",
    "del new_df['index2']\n",
    "\n",
    "def plus(str):\n",
    "    user_id = str['user_id']\n",
    "    user = df_users.loc[df_users['user_id'] == user_id] \n",
    "    tariff = user['tariff'].values[0] \n",
    "    tariff = df_tariffs.query('tariff_name == @tariff')\n",
    "    tariff_name = tariff['tariff_name'].values[0]\n",
    "    total = tariff['rub_monthly_fee'].values[0]\n",
    "    tariff_minutes = tariff['minutes_included'].values[0]\n",
    "    tariff_messages = tariff['messages_included'].values[0]\n",
    "    tariff_mb = tariff['mb_per_month_included'].values[0]\n",
    "    price_minute = tariff['rub_per_minute'].values[0]\n",
    "    price_message = tariff['rub_per_message'].values[0]\n",
    "    price_gb = tariff['rub_per_gb'].values[0]\n",
    "    if str['minutes'] > tariff_minutes:\n",
    "        total += (str['minutes'] - tariff_minutes) * price_minute\n",
    "            \n",
    "    if str['messages'] > tariff_messages:\n",
    "        total += (str['messages'] - tariff_messages) * price_message\n",
    "            \n",
    "    if str['internet'] > tariff_mb:\n",
    "        total += np.ceil((str['internet'] - tariff_mb) / 1024) * price_gb\n",
    "        \n",
    "    return total\n",
    "    \n",
    "    \n",
    "new_df['total'] = new_df.apply(plus, axis = 1)\n",
    "new_df.info()"
   ]
  },
  {
   "cell_type": "markdown",
   "metadata": {},
   "source": [
    "Заполняю таблицу по месяцам для каждого пользователя.\n",
    "\n",
    "    • calls - количество сделанных звонков;\n",
    "    \n",
    "    • minutes - количество израсходованных минут разговора;\n",
    "    \n",
    "    • messages - количество отправленных сообщений;\n",
    "    \n",
    "    • internet - объем израсходованного интернет-трафика в мегабайтах;\n",
    "    \n",
    "    • total - выручка; \n",
    "    \n",
    "<a id='section4'></a>\n",
    "### 4. Анализ данных"
   ]
  },
  {
   "cell_type": "code",
   "execution_count": 9,
   "metadata": {},
   "outputs": [
    {
     "data": {
      "text/html": [
       "<div>\n",
       "<style scoped>\n",
       "    .dataframe tbody tr th:only-of-type {\n",
       "        vertical-align: middle;\n",
       "    }\n",
       "\n",
       "    .dataframe tbody tr th {\n",
       "        vertical-align: top;\n",
       "    }\n",
       "\n",
       "    .dataframe thead th {\n",
       "        text-align: right;\n",
       "    }\n",
       "</style>\n",
       "<table border=\"1\" class=\"dataframe\">\n",
       "  <thead>\n",
       "    <tr style=\"text-align: right;\">\n",
       "      <th></th>\n",
       "      <th></th>\n",
       "      <th>Смарт</th>\n",
       "      <th>Ультра</th>\n",
       "    </tr>\n",
       "  </thead>\n",
       "  <tbody>\n",
       "    <tr>\n",
       "      <td>0</td>\n",
       "      <td>Сообщения</td>\n",
       "      <td>33</td>\n",
       "      <td>49</td>\n",
       "    </tr>\n",
       "    <tr>\n",
       "      <td>1</td>\n",
       "      <td>Минуты</td>\n",
       "      <td>418</td>\n",
       "      <td>526</td>\n",
       "    </tr>\n",
       "    <tr>\n",
       "      <td>2</td>\n",
       "      <td>Интернет, Мб</td>\n",
       "      <td>16222</td>\n",
       "      <td>19467</td>\n",
       "    </tr>\n",
       "    <tr>\n",
       "      <td>3</td>\n",
       "      <td>Дисперсия по сообщениям</td>\n",
       "      <td>797</td>\n",
       "      <td>2283</td>\n",
       "    </tr>\n",
       "    <tr>\n",
       "      <td>4</td>\n",
       "      <td>Дисперсия по минутам</td>\n",
       "      <td>36265</td>\n",
       "      <td>100950</td>\n",
       "    </tr>\n",
       "    <tr>\n",
       "      <td>5</td>\n",
       "      <td>Дисперсия по интернету</td>\n",
       "      <td>34632986</td>\n",
       "      <td>102113596</td>\n",
       "    </tr>\n",
       "    <tr>\n",
       "      <td>6</td>\n",
       "      <td>Стандартное отклонение по сообщениям</td>\n",
       "      <td>28</td>\n",
       "      <td>48</td>\n",
       "    </tr>\n",
       "    <tr>\n",
       "      <td>7</td>\n",
       "      <td>Стандартное отклонение по минутам</td>\n",
       "      <td>190</td>\n",
       "      <td>318</td>\n",
       "    </tr>\n",
       "    <tr>\n",
       "      <td>8</td>\n",
       "      <td>Стандартное отклонение по интернету</td>\n",
       "      <td>5886</td>\n",
       "      <td>10110</td>\n",
       "    </tr>\n",
       "  </tbody>\n",
       "</table>\n",
       "</div>"
      ],
      "text/plain": [
       "                                            Смарт     Ультра\n",
       "0                             Сообщения        33         49\n",
       "1                                Минуты       418        526\n",
       "2                          Интернет, Мб     16222      19467\n",
       "3               Дисперсия по сообщениям       797       2283\n",
       "4                  Дисперсия по минутам     36265     100950\n",
       "5                Дисперсия по интернету  34632986  102113596\n",
       "6  Стандартное отклонение по сообщениям        28         48\n",
       "7     Стандартное отклонение по минутам       190        318\n",
       "8   Стандартное отклонение по интернету      5886      10110"
      ]
     },
     "execution_count": 9,
     "metadata": {},
     "output_type": "execute_result"
    }
   ],
   "source": [
    "smart = df.loc[df['tariff'] == 'smart']\n",
    "s_messages = smart['messages']\n",
    "s_minutes = smart['minutes']\n",
    "s_internet = smart['internet']\n",
    "ultra = df.loc[df['tariff'] == 'ultra']\n",
    "u_messages = ultra['messages']\n",
    "u_minutes = ultra['minutes']\n",
    "u_internet = ultra['internet']\n",
    "\n",
    "table = [\n",
    "    ['Сообщения', s_messages.mean(), u_messages.mean()],\n",
    "    ['Минуты', s_minutes.mean(), u_minutes.mean()],\n",
    "    ['Интернет, Мб', s_internet.mean(), u_internet.mean()],\n",
    "    ['Дисперсия по сообщениям', np.var(s_messages), np.var(u_messages)],\n",
    "    ['Дисперсия по минутам', np.var(s_minutes), np.var(u_minutes)],\n",
    "    ['Дисперсия по интернету', np.var(s_internet), np.var(u_internet)],\n",
    "    ['Стандартное отклонение по сообщениям', np.std(s_messages, ddof = 1), np.std(u_messages, ddof = 1)],\n",
    "    ['Стандартное отклонение по минутам', np.std(s_minutes, ddof = 1), np.std(u_minutes, ddof = 1)],\n",
    "    ['Стандартное отклонение по интернету', np.std(s_internet, ddof = 1), np.std(u_internet, ddof = 1)]\n",
    "]\n",
    "\n",
    "result = pd.DataFrame(table, columns = ['','Смарт','Ультра'])\n",
    "result['Смарт'] = result['Смарт'].apply(np.round).astype('int')\n",
    "result['Ультра'] = result['Ультра'].apply(np.round).astype('int')\n",
    "result"
   ]
  },
  {
   "cell_type": "markdown",
   "metadata": {},
   "source": [
    "Пользователям тарифа Смарт в среднем требуется меньше сообщений, минут разговора и интернета. Разница незначительна. Пользователи тарифа Смарт немного превышают тариф по интернету, а в остальном укладываются в абонентскую плату. Пользователи тарифа Ультра в среднем не используют полностью то, что включено в тариф.\n",
    "\n",
    "<a id='section5'></a>\n",
    "### 4. Гистограммы"
   ]
  },
  {
   "cell_type": "code",
   "execution_count": 10,
   "metadata": {},
   "outputs": [
    {
     "name": "stdout",
     "output_type": "stream",
     "text": [
      "Тарифы Смарт(синий) и Ультра(оранжевый)\n"
     ]
    },
    {
     "data": {
      "image/png": "[encoded data removed]",
      "text/plain": [
       "<Figure size 432x288 with 1 Axes>"
      ]
     },
     "metadata": {
      "needs_background": "light"
     },
     "output_type": "display_data"
    },
    {
     "data": {
      "image/png": "[encoded data removed]",
      "text/plain": [
       "<Figure size 432x288 with 1 Axes>"
      ]
     },
     "metadata": {
      "needs_background": "light"
     },
     "output_type": "display_data"
    },
    {
     "data": {
      "image/png": "[encoded data removed]",
      "text/plain": [
       "<Figure size 432x288 with 1 Axes>"
      ]
     },
     "metadata": {
      "needs_background": "light"
     },
     "output_type": "display_data"
    }
   ],
   "source": [
    "def plot_hist(df1, df2, title, xlabel, ylabel='количество повторений'):\n",
    "    plt.title(title)\n",
    "    plt.xlabel(xlabel)\n",
    "    plt.ylabel(ylabel)\n",
    "    df1.hist()\n",
    "    df2.hist(alpha=0.6)\n",
    "    plt.show()\n",
    "    \n",
    "    \n",
    "print('Тарифы Смарт(синий) и Ультра(оранжевый)')\n",
    "plot_hist(s_messages, u_messages, 'Количество отправленных сообщений', 'сообщения')\n",
    "plot_hist(s_minutes, u_minutes, 'Количество минут разговора', 'минуты')\n",
    "plot_hist(s_internet, u_internet, 'Количество мегабайт', 'мегабайты')"
   ]
  },
  {
   "cell_type": "markdown",
   "metadata": {},
   "source": [
    "Распределение использования интернета можно считать нормальным, потому что график относительно среднего в обе стороны примерно одинаковый.\n",
    "\n",
    "В тарифе Ультра заявленное количество сообщений и минут избыточно: никто столько не тратит, минут разговора тратят максимум чуть больше половины, а сообщений только пятую часть.\n",
    "\n",
    "Тариф Ультра может быть выгоден только людям, которые очень много пользуются интернетом.\n",
    "\n",
    "<a id='section6'></a>\n",
    "### 6. Проверка гипотез"
   ]
  },
  {
   "cell_type": "code",
   "execution_count": 11,
   "metadata": {},
   "outputs": [
    {
     "name": "stdout",
     "output_type": "stream",
     "text": [
      "Дисперсия выручки по тарифам:\n",
      "Смарт -  11353266\n",
      "Ультра -  1734097\n",
      "\n",
      "Отвергаем нулевую гипотезу\n"
     ]
    }
   ],
   "source": [
    "smart_total = smart['total']\n",
    "ultra_total = ultra['total']\n",
    "print('Дисперсия выручки по тарифам:')\n",
    "print('Смарт - ', int(np.var(smart_total)))\n",
    "print('Ультра - ', int(np.var(ultra_total)))\n",
    "print()\n",
    "\n",
    "alpha = 0.05 # критический уровень статистической значимости\n",
    "results = st.ttest_ind(smart_total, ultra_total)\n",
    "\n",
    "if (results.pvalue < alpha):\n",
    "    print(\"Отвергаем нулевую гипотезу\")\n",
    "else:\n",
    "    print(\"Не получилось отвергнуть нулевую гипотезу\")   "
   ]
  },
  {
   "cell_type": "markdown",
   "metadata": {},
   "source": [
    "   • Нулевая гипотеза - средняя выручка пользователей тарифов «Ультра» и «Смарт» равны;\n",
    "    \n",
    "   • Альтернативная гипотеза - средняя выручка пользователей тарифов «Ультра» и «Смарт» отличаются;"
   ]
  },
  {
   "cell_type": "code",
   "execution_count": 12,
   "metadata": {},
   "outputs": [
    {
     "name": "stdout",
     "output_type": "stream",
     "text": [
      "Дисперсия выручки по тарифам:\n",
      "Москва -  6655178\n",
      "Другие регионы -  9129501\n",
      "\n",
      "Не получилось отвергнуть нулевую гипотезу\n"
     ]
    }
   ],
   "source": [
    "moscow = df.loc[df['city'] == 'Москва']['total']\n",
    "other = df.loc[df['city'] != 'Москва']['total']\n",
    "print('Дисперсия выручки по тарифам:')\n",
    "print('Москва - ', int(np.var(moscow)))\n",
    "print('Другие регионы - ', int(np.var(other)))\n",
    "print()\n",
    "results = st.ttest_ind(moscow, other)\n",
    "\n",
    "if (results.pvalue < alpha):\n",
    "    print(\"Отвергаем нулевую гипотезу\")\n",
    "else:\n",
    "    print(\"Не получилось отвергнуть нулевую гипотезу\")"
   ]
  },
  {
   "cell_type": "markdown",
   "metadata": {},
   "source": [
    "   • Нулевая гипотеза - средняя выручка пользователей из Москвы равна выручке пользователей из других регионов\n",
    " \n",
    "   • Альтернативная гипотеза - средняя выручка пользователей из Москвы отличается от выручки пользователей из других регионов"
   ]
  },
  {
   "cell_type": "markdown",
   "metadata": {
    "pycharm": {
     "name": "#%% md\n"
    }
   },
   "source": [
    "<a id='section7'></a>\n",
    "### 7. Общий вывод\n",
    "\n",
    "В процессе предобработки заменили некоторые типы данных. Удалили строки из таблицы с интернет-трафиком, где потраченные мегабайты равны 0.\n",
    "\n",
    "Была составлена таблица для каждого пользователя по месяцам с количеством сделанных звонков и израсходованных минут разговора, отправленных сообщений, объемом израсходованного интернет-трафика, а также выручку с каждого пользователя.\n",
    "\n",
    "Тариф Ультра для оператора более выгоден по расчётам средних значений по выборке, а также гипотеза о равенсве выручки не подтвердилась.\n",
    "\n",
    "В результате проверки гипотез получилось, что средняя выручка пользователей тарифов «Ультра» и «Смарт» отличаются, а средняя выручка пользователей из Москвы не отличается от выручки пользователей из других регионов."
   ]
  }
 ],
 "metadata": {
  "kernelspec": {
   "display_name": "Python 3",
   "language": "python",
   "name": "python3"
  },
  "language_info": {
   "codemirror_mode": {
    "name": "ipython",
    "version": 3
   },
   "file_extension": ".py",
   "mimetype": "text/x-python",
   "name": "python",
   "nbconvert_exporter": "python",
   "pygments_lexer": "ipython3",
   "version": "3.7.8"
  },
  "toc": {
   "base_numbering": 1,
   "nav_menu": {},
   "number_sections": true,
   "sideBar": true,
   "skip_h1_title": true,
   "title_cell": "Table of Contents",
   "title_sidebar": "Contents",
   "toc_cell": false,
   "toc_position": {},
   "toc_section_display": true,
   "toc_window_display": false
  }
 },
 "nbformat": 4,
 "nbformat_minor": 2
}